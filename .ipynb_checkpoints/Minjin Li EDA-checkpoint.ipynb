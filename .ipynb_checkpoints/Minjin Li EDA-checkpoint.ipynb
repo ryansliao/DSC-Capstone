{
 "cells": [
  {
   "cell_type": "code",
   "execution_count": 1,
   "id": "b51e30e6",
   "metadata": {},
   "outputs": [],
   "source": [
    "import pandas as pd\n",
    "import numpy as np\n"
   ]
  },
  {
   "cell_type": "code",
   "execution_count": 32,
   "id": "eaa6ea25",
   "metadata": {},
   "outputs": [
    {
     "data": {
      "text/html": [
       "<div>\n",
       "<style scoped>\n",
       "    .dataframe tbody tr th:only-of-type {\n",
       "        vertical-align: middle;\n",
       "    }\n",
       "\n",
       "    .dataframe tbody tr th {\n",
       "        vertical-align: top;\n",
       "    }\n",
       "\n",
       "    .dataframe thead th {\n",
       "        text-align: right;\n",
       "    }\n",
       "</style>\n",
       "<table border=\"1\" class=\"dataframe\">\n",
       "  <thead>\n",
       "    <tr style=\"text-align: right;\">\n",
       "      <th></th>\n",
       "      <th>HOUSEID</th>\n",
       "      <th>VEHID</th>\n",
       "      <th>VEHYEAR</th>\n",
       "      <th>VEHAGE</th>\n",
       "      <th>MAKE</th>\n",
       "      <th>MODEL</th>\n",
       "      <th>FUELTYPE</th>\n",
       "      <th>VEHTYPE</th>\n",
       "      <th>WHOMAIN</th>\n",
       "      <th>OD_READ</th>\n",
       "      <th>...</th>\n",
       "      <th>HTEEMPDN</th>\n",
       "      <th>HBHTNRNT</th>\n",
       "      <th>HBPPOPDN</th>\n",
       "      <th>HBRESDN</th>\n",
       "      <th>GSYRGAL</th>\n",
       "      <th>GSTOTCST</th>\n",
       "      <th>FEGEMPG</th>\n",
       "      <th>FEGEMPGA</th>\n",
       "      <th>GSCOST</th>\n",
       "      <th>FEGEMPGF</th>\n",
       "    </tr>\n",
       "  </thead>\n",
       "  <tbody>\n",
       "    <tr>\n",
       "      <th>0</th>\n",
       "      <td>30000007</td>\n",
       "      <td>1</td>\n",
       "      <td>2007</td>\n",
       "      <td>10</td>\n",
       "      <td>49</td>\n",
       "      <td>49032</td>\n",
       "      <td>1</td>\n",
       "      <td>1</td>\n",
       "      <td>3</td>\n",
       "      <td>69000</td>\n",
       "      <td>...</td>\n",
       "      <td>750</td>\n",
       "      <td>20</td>\n",
       "      <td>750</td>\n",
       "      <td>300</td>\n",
       "      <td>487.064221</td>\n",
       "      <td>1126.457778</td>\n",
       "      <td>30</td>\n",
       "      <td>-9</td>\n",
       "      <td>2.31275</td>\n",
       "      <td>1</td>\n",
       "    </tr>\n",
       "    <tr>\n",
       "      <th>1</th>\n",
       "      <td>30000007</td>\n",
       "      <td>2</td>\n",
       "      <td>2004</td>\n",
       "      <td>13</td>\n",
       "      <td>49</td>\n",
       "      <td>49442</td>\n",
       "      <td>1</td>\n",
       "      <td>2</td>\n",
       "      <td>-8</td>\n",
       "      <td>164000</td>\n",
       "      <td>...</td>\n",
       "      <td>750</td>\n",
       "      <td>20</td>\n",
       "      <td>750</td>\n",
       "      <td>300</td>\n",
       "      <td>250.899523</td>\n",
       "      <td>580.267873</td>\n",
       "      <td>19</td>\n",
       "      <td>-9</td>\n",
       "      <td>2.31275</td>\n",
       "      <td>1</td>\n",
       "    </tr>\n",
       "    <tr>\n",
       "      <th>2</th>\n",
       "      <td>30000007</td>\n",
       "      <td>3</td>\n",
       "      <td>1998</td>\n",
       "      <td>19</td>\n",
       "      <td>19</td>\n",
       "      <td>19014</td>\n",
       "      <td>1</td>\n",
       "      <td>1</td>\n",
       "      <td>1</td>\n",
       "      <td>120000</td>\n",
       "      <td>...</td>\n",
       "      <td>750</td>\n",
       "      <td>20</td>\n",
       "      <td>750</td>\n",
       "      <td>300</td>\n",
       "      <td>444.462475</td>\n",
       "      <td>1027.930589</td>\n",
       "      <td>18</td>\n",
       "      <td>-9</td>\n",
       "      <td>2.31275</td>\n",
       "      <td>1</td>\n",
       "    </tr>\n",
       "    <tr>\n",
       "      <th>3</th>\n",
       "      <td>30000007</td>\n",
       "      <td>4</td>\n",
       "      <td>1997</td>\n",
       "      <td>20</td>\n",
       "      <td>19</td>\n",
       "      <td>19021</td>\n",
       "      <td>1</td>\n",
       "      <td>1</td>\n",
       "      <td>2</td>\n",
       "      <td>-88</td>\n",
       "      <td>...</td>\n",
       "      <td>750</td>\n",
       "      <td>20</td>\n",
       "      <td>750</td>\n",
       "      <td>300</td>\n",
       "      <td>40.329575</td>\n",
       "      <td>93.272224</td>\n",
       "      <td>18</td>\n",
       "      <td>-9</td>\n",
       "      <td>2.31275</td>\n",
       "      <td>1</td>\n",
       "    </tr>\n",
       "    <tr>\n",
       "      <th>4</th>\n",
       "      <td>30000007</td>\n",
       "      <td>5</td>\n",
       "      <td>1993</td>\n",
       "      <td>24</td>\n",
       "      <td>20</td>\n",
       "      <td>20481</td>\n",
       "      <td>1</td>\n",
       "      <td>4</td>\n",
       "      <td>2</td>\n",
       "      <td>300000</td>\n",
       "      <td>...</td>\n",
       "      <td>750</td>\n",
       "      <td>20</td>\n",
       "      <td>750</td>\n",
       "      <td>300</td>\n",
       "      <td>888.404197</td>\n",
       "      <td>2054.656806</td>\n",
       "      <td>14</td>\n",
       "      <td>-9</td>\n",
       "      <td>2.31275</td>\n",
       "      <td>1</td>\n",
       "    </tr>\n",
       "  </tbody>\n",
       "</table>\n",
       "<p>5 rows × 60 columns</p>\n",
       "</div>"
      ],
      "text/plain": [
       "    HOUSEID  VEHID  VEHYEAR  VEHAGE MAKE  MODEL  FUELTYPE  VEHTYPE  WHOMAIN  \\\n",
       "0  30000007      1     2007      10   49  49032         1        1        3   \n",
       "1  30000007      2     2004      13   49  49442         1        2       -8   \n",
       "2  30000007      3     1998      19   19  19014         1        1        1   \n",
       "3  30000007      4     1997      20   19  19021         1        1        2   \n",
       "4  30000007      5     1993      24   20  20481         1        4        2   \n",
       "\n",
       "   OD_READ  ...  HTEEMPDN  HBHTNRNT  HBPPOPDN  HBRESDN     GSYRGAL  \\\n",
       "0    69000  ...       750        20       750      300  487.064221   \n",
       "1   164000  ...       750        20       750      300  250.899523   \n",
       "2   120000  ...       750        20       750      300  444.462475   \n",
       "3      -88  ...       750        20       750      300   40.329575   \n",
       "4   300000  ...       750        20       750      300  888.404197   \n",
       "\n",
       "      GSTOTCST  FEGEMPG  FEGEMPGA   GSCOST  FEGEMPGF  \n",
       "0  1126.457778       30        -9  2.31275         1  \n",
       "1   580.267873       19        -9  2.31275         1  \n",
       "2  1027.930589       18        -9  2.31275         1  \n",
       "3    93.272224       18        -9  2.31275         1  \n",
       "4  2054.656806       14        -9  2.31275         1  \n",
       "\n",
       "[5 rows x 60 columns]"
      ]
     },
     "execution_count": 32,
     "metadata": {},
     "output_type": "execute_result"
    }
   ],
   "source": [
    "data = pd.read_csv(\"vehpub.csv\")\n",
    "data.head()"
   ]
  },
  {
   "cell_type": "code",
   "execution_count": 11,
   "id": "33f47147",
   "metadata": {},
   "outputs": [],
   "source": [
    "data# = data[[\"VEHAGE\", \"MODEL\", \"FUELTYPE\", \"BESTMILE\", \"LIF_CYC\", \"HTRESDN\", 'HTEEMPDN', 'HTPPOPDN', 'HBRESDN', 'HBPPOPDN', 'HHFAMINC', 'HHSIZE']]"
   ]
  },
  {
   "cell_type": "code",
   "execution_count": 4,
   "id": "062725b2",
   "metadata": {},
   "outputs": [
    {
     "data": {
      "text/plain": [
       "Index(['HOUSEID', 'VEHID', 'VEHYEAR', 'VEHAGE', 'MAKE', 'MODEL', 'FUELTYPE',\n",
       "       'VEHTYPE', 'WHOMAIN', 'OD_READ', 'HFUEL', 'VEHOWNED', 'VEHOWNMO',\n",
       "       'ANNMILES', 'HYBRID', 'PERSONID', 'TRAVDAY', 'HOMEOWN', 'HHSIZE',\n",
       "       'HHVEHCNT', 'HHFAMINC', 'DRVRCNT', 'HHSTATE', 'HHSTFIPS', 'NUMADLT',\n",
       "       'WRKCOUNT', 'TDAYDATE', 'LIF_CYC', 'MSACAT', 'MSASIZE', 'RAIL', 'URBAN',\n",
       "       'URBANSIZE', 'URBRUR', 'CENSUS_D', 'CENSUS_R', 'CDIVMSAR', 'HH_RACE',\n",
       "       'HH_HISP', 'HH_CBSA', 'SMPLSRCE', 'WTHHFIN', 'BESTMILE', 'BEST_FLG',\n",
       "       'BEST_EDT', 'BEST_OUT', 'HBHUR', 'HTHTNRNT', 'HTPPOPDN', 'HTRESDN',\n",
       "       'HTEEMPDN', 'HBHTNRNT', 'HBPPOPDN', 'HBRESDN', 'GSYRGAL', 'GSTOTCST',\n",
       "       'FEGEMPG', 'FEGEMPGA', 'GSCOST', 'FEGEMPGF'],\n",
       "      dtype='object')"
      ]
     },
     "execution_count": 4,
     "metadata": {},
     "output_type": "execute_result"
    }
   ],
   "source": [
    "data.columns#HBEEMPDN"
   ]
  },
  {
   "cell_type": "code",
   "execution_count": 20,
   "id": "a46e1518",
   "metadata": {},
   "outputs": [
    {
     "data": {
      "text/plain": [
       "<AxesSubplot:xlabel='LIF_CYC'>"
      ]
     },
     "execution_count": 20,
     "metadata": {},
     "output_type": "execute_result"
    },
    {
     "data": {
      "image/png": "[encoded data removed]",
      "text/plain": [
       "<Figure size 432x288 with 1 Axes>"
      ]
     },
     "metadata": {
      "needs_background": "light"
     },
     "output_type": "display_data"
    }
   ],
   "source": [
    "data.groupby([\"LIF_CYC\"]).mean()['VEHAGE'].drop([-9]).plot.bar()"
   ]
  },
  {
   "cell_type": "code",
   "execution_count": 28,
   "id": "08e02763",
   "metadata": {},
   "outputs": [
    {
     "data": {
      "text/plain": [
       "<AxesSubplot:xlabel='VEHAGE'>"
      ]
     },
     "execution_count": 28,
     "metadata": {},
     "output_type": "execute_result"
    },
    {
     "data": {
      "image/png": "[encoded data removed]",
      "text/plain": [
       "<Figure size 432x288 with 1 Axes>"
      ]
     },
     "metadata": {
      "needs_background": "light"
     },
     "output_type": "display_data"
    }
   ],
   "source": [
    "data.groupby([\"VEHAGE\"]).mean()['BESTMILE'].drop([-8, -7]).plot()"
   ]
  },
  {
   "cell_type": "code",
   "execution_count": 42,
   "id": "94d19363",
   "metadata": {},
   "outputs": [
    {
     "data": {
      "text/plain": [
       "HOUSEID\n",
       "30000007    1.666667\n",
       "30000008    2.000000\n",
       "30000012    2.000000\n",
       "30000019    1.000000\n",
       "30000029    1.000000\n",
       "              ...   \n",
       "40794260    0.250000\n",
       "40794291    1.000000\n",
       "40794293    1.500000\n",
       "40794294    1.000000\n",
       "40794301    0.714286\n",
       "Length: 123447, dtype: float64"
      ]
     },
     "execution_count": 42,
     "metadata": {},
     "output_type": "execute_result"
    }
   ],
   "source": [
    "data[] = x[\"HHVEHCNT\"] / x[\"HHSIZE\"]\n",
    "x = data.groupby(\"HOUSEID\").first()\n"
   ]
  },
  {
   "cell_type": "code",
   "execution_count": 44,
   "id": "ed9e50c1",
   "metadata": {},
   "outputs": [
    {
     "data": {
      "text/plain": [
       "<AxesSubplot:xlabel='HTRESDN'>"
      ]
     },
     "execution_count": 44,
     "metadata": {},
     "output_type": "execute_result"
    },
    {
     "data": {
      "image/png": "[encoded data removed]",
      "text/plain": [
       "<Figure size 432x288 with 1 Axes>"
      ]
     },
     "metadata": {
      "needs_background": "light"
     },
     "output_type": "display_data"
    }
   ],
   "source": [
    "data.groupby([\"HTRESDN\"]).mean()['VEHAGE'].drop([-9]).plot.bar()"
   ]
  },
  {
   "cell_type": "code",
   "execution_count": 77,
   "id": "65a4c522",
   "metadata": {},
   "outputs": [
    {
     "data": {
      "text/plain": [
       "<AxesSubplot:xlabel='HTRESDN'>"
      ]
     },
     "execution_count": 77,
     "metadata": {},
     "output_type": "execute_result"
    },
    {
     "data": {
      "image/png": "[encoded data removed]",
      "text/plain": [
       "<Figure size 432x288 with 1 Axes>"
      ]
     },
     "metadata": {
      "needs_background": "light"
     },
     "output_type": "display_data"
    }
   ],
   "source": [
    "temp = data[(data['VEHTYPE'] <= 4) & (data['VEHTYPE'] >= 0)].groupby([\"HTRESDN\", \"VEHTYPE\"]).count()[\"HOUSEID\"].drop([-9])\n",
    "temp.groupby(\"HTRESDN\").apply(lambda x: x / float(x.sum())).unstack().plot.bar(stacked = True)"
   ]
  },
  {
   "cell_type": "code",
   "execution_count": 79,
   "id": "6f964631",
   "metadata": {},
   "outputs": [
    {
     "data": {
      "text/plain": [
       "<AxesSubplot:xlabel='HTEEMPDN'>"
      ]
     },
     "execution_count": 79,
     "metadata": {},
     "output_type": "execute_result"
    },
    {
     "data": {
      "image/png": "[encoded data removed]",
      "text/plain": [
       "<Figure size 432x288 with 1 Axes>"
      ]
     },
     "metadata": {
      "needs_background": "light"
     },
     "output_type": "display_data"
    }
   ],
   "source": [
    "temp = data[(data['VEHTYPE'] <= 4) & (data['VEHTYPE'] >= 0)].groupby([\"HTEEMPDN\", \"VEHTYPE\"]).count()[\"HOUSEID\"].drop([-9])\n",
    "temp.groupby(\"HTEEMPDN\").apply(lambda x: x / float(x.sum())).unstack().plot.bar(stacked = True)"
   ]
  },
  {
   "cell_type": "code",
   "execution_count": 80,
   "id": "643336e6",
   "metadata": {},
   "outputs": [
    {
     "data": {
      "text/plain": [
       "<AxesSubplot:xlabel='HTPPOPDN'>"
      ]
     },
     "execution_count": 80,
     "metadata": {},
     "output_type": "execute_result"
    },
    {
     "data": {
      "image/png": "[encoded data removed]",
      "text/plain": [
       "<Figure size 432x288 with 1 Axes>"
      ]
     },
     "metadata": {
      "needs_background": "light"
     },
     "output_type": "display_data"
    }
   ],
   "source": [
    "temp = data[(data['VEHTYPE'] <= 4) & (data['VEHTYPE'] >= 0)].groupby([\"HTPPOPDN\", \"VEHTYPE\"]).count()[\"HOUSEID\"].drop([-9])\n",
    "temp.groupby(\"HTPPOPDN\").apply(lambda x: x / float(x.sum())).unstack().plot.bar(stacked = True)"
   ]
  },
  {
   "cell_type": "code",
   "execution_count": 92,
   "id": "6aaa3e02",
   "metadata": {},
   "outputs": [
    {
     "data": {
      "text/plain": [
       "<AxesSubplot:xlabel='HHFAMINC'>"
      ]
     },
     "execution_count": 92,
     "metadata": {},
     "output_type": "execute_result"
    },
    {
     "data": {
      "image/png": "[encoded data removed]",
      "text/plain": [
       "<Figure size 432x288 with 1 Axes>"
      ]
     },
     "metadata": {
      "needs_background": "light"
     },
     "output_type": "display_data"
    }
   ],
   "source": [
    "temp = data[(data['VEHTYPE'] <= 4) & (data['VEHTYPE'] >= 0)].groupby([\"HHFAMINC\", \"VEHTYPE\"]).count()[\"HOUSEID\"].drop([-7,-8,-9])\n",
    "temp.groupby(\"HHFAMINC\").apply(lambda x: x / float(x.sum())).unstack().plot.bar(stacked = True)"
   ]
  },
  {
   "cell_type": "code",
   "execution_count": 87,
   "id": "9a84ac6d",
   "metadata": {},
   "outputs": [
    {
     "data": {
      "text/plain": [
       "<AxesSubplot:xlabel='HHFAMINC'>"
      ]
     },
     "execution_count": 87,
     "metadata": {},
     "output_type": "execute_result"
    },
    {
     "data": {
      "image/png": "[encoded data removed]",
      "text/plain": [
       "<Figure size 432x288 with 1 Axes>"
      ]
     },
     "metadata": {
      "needs_background": "light"
     },
     "output_type": "display_data"
    }
   ],
   "source": [
    "data.groupby([\"HHFAMINC\"]).mean()['VEHAGE'].drop([-9,-8,-7]).plot()"
   ]
  },
  {
   "cell_type": "code",
   "execution_count": 89,
   "id": "2fb3ee15",
   "metadata": {},
   "outputs": [
    {
     "data": {
      "text/plain": [
       "<AxesSubplot:xlabel='HHSIZE'>"
      ]
     },
     "execution_count": 89,
     "metadata": {},
     "output_type": "execute_result"
    },
    {
     "data": {
      "image/png": "[encoded data removed]",
      "text/plain": [
       "<Figure size 432x288 with 1 Axes>"
      ]
     },
     "metadata": {
      "needs_background": "light"
     },
     "output_type": "display_data"
    }
   ],
   "source": [
    "data.groupby([\"HHSIZE\"]).mean()['VEHAGE'].plot()"
   ]
  },
  {
   "cell_type": "code",
   "execution_count": 91,
   "id": "b1858d8c",
   "metadata": {},
   "outputs": [
    {
     "data": {
      "text/plain": [
       "<AxesSubplot:xlabel='HHSIZE'>"
      ]
     },
     "execution_count": 91,
     "metadata": {},
     "output_type": "execute_result"
    },
    {
     "data": {
      "image/png": "[encoded data removed]",
      "text/plain": [
       "<Figure size 432x288 with 1 Axes>"
      ]
     },
     "metadata": {
      "needs_background": "light"
     },
     "output_type": "display_data"
    }
   ],
   "source": [
    "temp = data[(data['VEHTYPE'] <= 4) & (data['VEHTYPE'] >= 0)].groupby([\"HHSIZE\", \"VEHTYPE\"]).count()[\"HOUSEID\"]\n",
    "temp.groupby(\"HHSIZE\").apply(lambda x: x / float(x.sum())).unstack().plot.bar(stacked = True)"
   ]
  },
  {
   "cell_type": "code",
   "execution_count": 96,
   "id": "0c776435",
   "metadata": {},
   "outputs": [
    {
     "name": "stderr",
     "output_type": "stream",
     "text": [
      "C:\\Users\\jason\\AppData\\Local\\Temp/ipykernel_2380/3326218832.py:2: SettingWithCopyWarning: \n",
      "A value is trying to be set on a copy of a slice from a DataFrame.\n",
      "Try using .loc[row_indexer,col_indexer] = value instead\n",
      "\n",
      "See the caveats in the documentation: https://pandas.pydata.org/pandas-docs/stable/user_guide/indexing.html#returning-a-view-versus-a-copy\n",
      "  temp['ratio'] = data[\"HHVEHCNT\"] / data[\"HHSIZE\"]\n"
     ]
    },
    {
     "data": {
      "text/plain": [
       "<AxesSubplot:xlabel='HHSIZE', ylabel='ratio'>"
      ]
     },
     "execution_count": 96,
     "metadata": {},
     "output_type": "execute_result"
    },
    {
     "data": {
      "image/png": "[encoded data removed]",
      "text/plain": [
       "<Figure size 432x288 with 1 Axes>"
      ]
     },
     "metadata": {
      "needs_background": "light"
     },
     "output_type": "display_data"
    }
   ],
   "source": [
    "temp = data[[\"HHVEHCNT\", 'HHSIZE']]\n",
    "temp['ratio'] = data[\"HHVEHCNT\"] / data[\"HHSIZE\"]\n",
    "temp.plot.scatter('HHSIZE', 'ratio')"
   ]
  },
  {
   "cell_type": "code",
   "execution_count": null,
   "id": "b5f6b7d0",
   "metadata": {},
   "outputs": [],
   "source": []
  },
  {
   "cell_type": "code",
   "execution_count": null,
   "id": "c62a7fe6",
   "metadata": {},
   "outputs": [],
   "source": []
  },
  {
   "cell_type": "code",
   "execution_count": null,
   "id": "e4eadbe4",
   "metadata": {},
   "outputs": [],
   "source": []
  },
  {
   "cell_type": "code",
   "execution_count": null,
   "id": "9e95cd76",
   "metadata": {},
   "outputs": [],
   "source": []
  },
  {
   "cell_type": "code",
   "execution_count": null,
   "id": "8774738a",
   "metadata": {},
   "outputs": [],
   "source": []
  },
  {
   "cell_type": "code",
   "execution_count": null,
   "id": "cac15273",
   "metadata": {},
   "outputs": [],
   "source": []
  },
  {
   "cell_type": "code",
   "execution_count": null,
   "id": "3b34f544",
   "metadata": {},
   "outputs": [],
   "source": []
  },
  {
   "cell_type": "code",
   "execution_count": null,
   "id": "7423fc24",
   "metadata": {},
   "outputs": [],
   "source": []
  },
  {
   "cell_type": "code",
   "execution_count": null,
   "id": "eb9e913d",
   "metadata": {},
   "outputs": [],
   "source": []
  },
  {
   "cell_type": "code",
   "execution_count": null,
   "id": "3fab94f1",
   "metadata": {},
   "outputs": [],
   "source": []
  },
  {
   "cell_type": "code",
   "execution_count": null,
   "id": "c5592a24",
   "metadata": {},
   "outputs": [],
   "source": []
  },
  {
   "cell_type": "code",
   "execution_count": null,
   "id": "a20bab46",
   "metadata": {},
   "outputs": [],
   "source": []
  },
  {
   "cell_type": "code",
   "execution_count": null,
   "id": "181088eb",
   "metadata": {},
   "outputs": [],
   "source": []
  },
  {
   "cell_type": "code",
   "execution_count": null,
   "id": "67646771",
   "metadata": {},
   "outputs": [],
   "source": []
  },
  {
   "cell_type": "code",
   "execution_count": null,
   "id": "82e377a8",
   "metadata": {},
   "outputs": [],
   "source": []
  },
  {
   "cell_type": "code",
   "execution_count": null,
   "id": "0152ac0a",
   "metadata": {},
   "outputs": [],
   "source": []
  },
  {
   "cell_type": "code",
   "execution_count": null,
   "id": "1a10ee36",
   "metadata": {},
   "outputs": [],
   "source": []
  },
  {
   "cell_type": "code",
   "execution_count": null,
   "id": "276c111d",
   "metadata": {},
   "outputs": [],
   "source": []
  },
  {
   "cell_type": "code",
   "execution_count": null,
   "id": "27f83941",
   "metadata": {},
   "outputs": [],
   "source": []
  }
 ],
 "metadata": {
  "kernelspec": {
   "display_name": "Python 3 (ipykernel)",
   "language": "python",
   "name": "python3"
  },
  "language_info": {
   "codemirror_mode": {
    "name": "ipython",
    "version": 3
   },
   "file_extension": ".py",
   "mimetype": "text/x-python",
   "name": "python",
   "nbconvert_exporter": "python",
   "pygments_lexer": "ipython3",
   "version": "3.9.5"
  }
 },
 "nbformat": 4,
 "nbformat_minor": 5
}
