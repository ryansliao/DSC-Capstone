{
 "cells": [
  {
   "cell_type": "markdown",
   "id": "00cf4505",
   "metadata": {},
   "source": [
    "# NHTS Vehicle Type EDA"
   ]
  },
  {
   "cell_type": "code",
   "execution_count": 2,
   "id": "609c0719",
   "metadata": {},
   "outputs": [],
   "source": [
    "import pandas as pd\n",
    "import numpy as np\n",
    "import matplotlib.pyplot as plt\n",
    "import seaborn as sns"
   ]
  },
  {
   "cell_type": "code",
   "execution_count": 3,
   "id": "b70a0224",
   "metadata": {},
   "outputs": [],
   "source": [
    "vehicles = pd.read_csv(\"vehpub_2017.csv\")\n",
    "households = pd.read_csv(\"hhpub_2017.csv\")\n",
    "pd.set_option('display.max_columns', None)"
   ]
  },
  {
   "cell_type": "code",
   "execution_count": 4,
   "id": "04c4d4de",
   "metadata": {},
   "outputs": [
    {
     "data": {
      "text/html": [
       "<div>\n",
       "<style scoped>\n",
       "    .dataframe tbody tr th:only-of-type {\n",
       "        vertical-align: middle;\n",
       "    }\n",
       "\n",
       "    .dataframe tbody tr th {\n",
       "        vertical-align: top;\n",
       "    }\n",
       "\n",
       "    .dataframe thead th {\n",
       "        text-align: right;\n",
       "    }\n",
       "</style>\n",
       "<table border=\"1\" class=\"dataframe\">\n",
       "  <thead>\n",
       "    <tr style=\"text-align: right;\">\n",
       "      <th></th>\n",
       "      <th>HOUSEID</th>\n",
       "      <th>VEHID</th>\n",
       "      <th>VEHYEAR</th>\n",
       "      <th>VEHAGE</th>\n",
       "      <th>MAKE</th>\n",
       "      <th>MODEL</th>\n",
       "      <th>FUELTYPE</th>\n",
       "      <th>VEHTYPE</th>\n",
       "      <th>WHOMAIN</th>\n",
       "      <th>OD_READ</th>\n",
       "      <th>HFUEL</th>\n",
       "      <th>VEHOWNED</th>\n",
       "      <th>VEHOWNMO</th>\n",
       "      <th>ANNMILES</th>\n",
       "      <th>HYBRID</th>\n",
       "      <th>PERSONID</th>\n",
       "      <th>TRAVDAY</th>\n",
       "      <th>HOMEOWN</th>\n",
       "      <th>HHSIZE</th>\n",
       "      <th>HHVEHCNT</th>\n",
       "      <th>HHFAMINC</th>\n",
       "      <th>DRVRCNT</th>\n",
       "      <th>HHSTATE</th>\n",
       "      <th>HHSTFIPS</th>\n",
       "      <th>NUMADLT</th>\n",
       "      <th>WRKCOUNT</th>\n",
       "      <th>TDAYDATE</th>\n",
       "      <th>LIF_CYC</th>\n",
       "      <th>MSACAT</th>\n",
       "      <th>MSASIZE</th>\n",
       "      <th>RAIL</th>\n",
       "      <th>URBAN</th>\n",
       "      <th>URBANSIZE</th>\n",
       "      <th>URBRUR</th>\n",
       "      <th>CENSUS_D</th>\n",
       "      <th>CENSUS_R</th>\n",
       "      <th>CDIVMSAR</th>\n",
       "      <th>HH_RACE</th>\n",
       "      <th>HH_HISP</th>\n",
       "      <th>HH_CBSA</th>\n",
       "      <th>SMPLSRCE</th>\n",
       "      <th>WTHHFIN</th>\n",
       "      <th>BESTMILE</th>\n",
       "      <th>BEST_FLG</th>\n",
       "      <th>BEST_EDT</th>\n",
       "      <th>BEST_OUT</th>\n",
       "      <th>HBHUR</th>\n",
       "      <th>HTHTNRNT</th>\n",
       "      <th>HTPPOPDN</th>\n",
       "      <th>HTRESDN</th>\n",
       "      <th>HTEEMPDN</th>\n",
       "      <th>HBHTNRNT</th>\n",
       "      <th>HBPPOPDN</th>\n",
       "      <th>HBRESDN</th>\n",
       "      <th>GSYRGAL</th>\n",
       "      <th>GSTOTCST</th>\n",
       "      <th>FEGEMPG</th>\n",
       "      <th>FEGEMPGA</th>\n",
       "      <th>GSCOST</th>\n",
       "      <th>FEGEMPGF</th>\n",
       "      <th>CNTTDHH</th>\n",
       "      <th>CAR</th>\n",
       "      <th>PRICE</th>\n",
       "      <th>PLACE</th>\n",
       "    </tr>\n",
       "  </thead>\n",
       "  <tbody>\n",
       "    <tr>\n",
       "      <th>0</th>\n",
       "      <td>30000007</td>\n",
       "      <td>1</td>\n",
       "      <td>2007</td>\n",
       "      <td>10</td>\n",
       "      <td>49</td>\n",
       "      <td>49032</td>\n",
       "      <td>1</td>\n",
       "      <td>1</td>\n",
       "      <td>3</td>\n",
       "      <td>69000</td>\n",
       "      <td>-1</td>\n",
       "      <td>1</td>\n",
       "      <td>-1</td>\n",
       "      <td>1000</td>\n",
       "      <td>2</td>\n",
       "      <td>3</td>\n",
       "      <td>2</td>\n",
       "      <td>1</td>\n",
       "      <td>3</td>\n",
       "      <td>5</td>\n",
       "      <td>7</td>\n",
       "      <td>3</td>\n",
       "      <td>NC</td>\n",
       "      <td>37</td>\n",
       "      <td>3</td>\n",
       "      <td>1</td>\n",
       "      <td>201608</td>\n",
       "      <td>10</td>\n",
       "      <td>3</td>\n",
       "      <td>1</td>\n",
       "      <td>2</td>\n",
       "      <td>1</td>\n",
       "      <td>1</td>\n",
       "      <td>1</td>\n",
       "      <td>5</td>\n",
       "      <td>3</td>\n",
       "      <td>53</td>\n",
       "      <td>2</td>\n",
       "      <td>2</td>\n",
       "      <td>XXXXX</td>\n",
       "      <td>2</td>\n",
       "      <td>187.31432</td>\n",
       "      <td>14611.926637</td>\n",
       "      <td>1</td>\n",
       "      <td>-1</td>\n",
       "      <td>4</td>\n",
       "      <td>T</td>\n",
       "      <td>50</td>\n",
       "      <td>1500</td>\n",
       "      <td>750</td>\n",
       "      <td>750</td>\n",
       "      <td>20</td>\n",
       "      <td>750</td>\n",
       "      <td>300</td>\n",
       "      <td>487.064221</td>\n",
       "      <td>1126.457778</td>\n",
       "      <td>30</td>\n",
       "      <td>-9</td>\n",
       "      <td>2.31275</td>\n",
       "      <td>1</td>\n",
       "      <td>6</td>\n",
       "      <td>1</td>\n",
       "      <td>1</td>\n",
       "      <td>2</td>\n",
       "    </tr>\n",
       "    <tr>\n",
       "      <th>1</th>\n",
       "      <td>30000007</td>\n",
       "      <td>2</td>\n",
       "      <td>2004</td>\n",
       "      <td>13</td>\n",
       "      <td>49</td>\n",
       "      <td>49442</td>\n",
       "      <td>1</td>\n",
       "      <td>2</td>\n",
       "      <td>-8</td>\n",
       "      <td>164000</td>\n",
       "      <td>-1</td>\n",
       "      <td>1</td>\n",
       "      <td>-1</td>\n",
       "      <td>2500</td>\n",
       "      <td>2</td>\n",
       "      <td>-8</td>\n",
       "      <td>2</td>\n",
       "      <td>1</td>\n",
       "      <td>3</td>\n",
       "      <td>5</td>\n",
       "      <td>7</td>\n",
       "      <td>3</td>\n",
       "      <td>NC</td>\n",
       "      <td>37</td>\n",
       "      <td>3</td>\n",
       "      <td>1</td>\n",
       "      <td>201608</td>\n",
       "      <td>10</td>\n",
       "      <td>3</td>\n",
       "      <td>1</td>\n",
       "      <td>2</td>\n",
       "      <td>1</td>\n",
       "      <td>1</td>\n",
       "      <td>1</td>\n",
       "      <td>5</td>\n",
       "      <td>3</td>\n",
       "      <td>53</td>\n",
       "      <td>2</td>\n",
       "      <td>2</td>\n",
       "      <td>XXXXX</td>\n",
       "      <td>2</td>\n",
       "      <td>187.31432</td>\n",
       "      <td>4767.090946</td>\n",
       "      <td>3</td>\n",
       "      <td>-1</td>\n",
       "      <td>-1</td>\n",
       "      <td>T</td>\n",
       "      <td>50</td>\n",
       "      <td>1500</td>\n",
       "      <td>750</td>\n",
       "      <td>750</td>\n",
       "      <td>20</td>\n",
       "      <td>750</td>\n",
       "      <td>300</td>\n",
       "      <td>250.899523</td>\n",
       "      <td>580.267873</td>\n",
       "      <td>19</td>\n",
       "      <td>-9</td>\n",
       "      <td>2.31275</td>\n",
       "      <td>1</td>\n",
       "      <td>6</td>\n",
       "      <td>1</td>\n",
       "      <td>1</td>\n",
       "      <td>2</td>\n",
       "    </tr>\n",
       "    <tr>\n",
       "      <th>2</th>\n",
       "      <td>30000007</td>\n",
       "      <td>3</td>\n",
       "      <td>1998</td>\n",
       "      <td>19</td>\n",
       "      <td>19</td>\n",
       "      <td>19014</td>\n",
       "      <td>1</td>\n",
       "      <td>1</td>\n",
       "      <td>1</td>\n",
       "      <td>120000</td>\n",
       "      <td>-1</td>\n",
       "      <td>1</td>\n",
       "      <td>-1</td>\n",
       "      <td>900</td>\n",
       "      <td>2</td>\n",
       "      <td>1</td>\n",
       "      <td>2</td>\n",
       "      <td>1</td>\n",
       "      <td>3</td>\n",
       "      <td>5</td>\n",
       "      <td>7</td>\n",
       "      <td>3</td>\n",
       "      <td>NC</td>\n",
       "      <td>37</td>\n",
       "      <td>3</td>\n",
       "      <td>1</td>\n",
       "      <td>201608</td>\n",
       "      <td>10</td>\n",
       "      <td>3</td>\n",
       "      <td>1</td>\n",
       "      <td>2</td>\n",
       "      <td>1</td>\n",
       "      <td>1</td>\n",
       "      <td>1</td>\n",
       "      <td>5</td>\n",
       "      <td>3</td>\n",
       "      <td>53</td>\n",
       "      <td>2</td>\n",
       "      <td>2</td>\n",
       "      <td>XXXXX</td>\n",
       "      <td>2</td>\n",
       "      <td>187.31432</td>\n",
       "      <td>8000.324552</td>\n",
       "      <td>1</td>\n",
       "      <td>-1</td>\n",
       "      <td>-1</td>\n",
       "      <td>T</td>\n",
       "      <td>50</td>\n",
       "      <td>1500</td>\n",
       "      <td>750</td>\n",
       "      <td>750</td>\n",
       "      <td>20</td>\n",
       "      <td>750</td>\n",
       "      <td>300</td>\n",
       "      <td>444.462475</td>\n",
       "      <td>1027.930589</td>\n",
       "      <td>18</td>\n",
       "      <td>-9</td>\n",
       "      <td>2.31275</td>\n",
       "      <td>1</td>\n",
       "      <td>6</td>\n",
       "      <td>1</td>\n",
       "      <td>1</td>\n",
       "      <td>2</td>\n",
       "    </tr>\n",
       "    <tr>\n",
       "      <th>3</th>\n",
       "      <td>30000007</td>\n",
       "      <td>4</td>\n",
       "      <td>1997</td>\n",
       "      <td>20</td>\n",
       "      <td>19</td>\n",
       "      <td>19021</td>\n",
       "      <td>1</td>\n",
       "      <td>1</td>\n",
       "      <td>2</td>\n",
       "      <td>-88</td>\n",
       "      <td>-1</td>\n",
       "      <td>1</td>\n",
       "      <td>-1</td>\n",
       "      <td>500</td>\n",
       "      <td>2</td>\n",
       "      <td>2</td>\n",
       "      <td>2</td>\n",
       "      <td>1</td>\n",
       "      <td>3</td>\n",
       "      <td>5</td>\n",
       "      <td>7</td>\n",
       "      <td>3</td>\n",
       "      <td>NC</td>\n",
       "      <td>37</td>\n",
       "      <td>3</td>\n",
       "      <td>1</td>\n",
       "      <td>201608</td>\n",
       "      <td>10</td>\n",
       "      <td>3</td>\n",
       "      <td>1</td>\n",
       "      <td>2</td>\n",
       "      <td>1</td>\n",
       "      <td>1</td>\n",
       "      <td>1</td>\n",
       "      <td>5</td>\n",
       "      <td>3</td>\n",
       "      <td>53</td>\n",
       "      <td>2</td>\n",
       "      <td>2</td>\n",
       "      <td>XXXXX</td>\n",
       "      <td>2</td>\n",
       "      <td>187.31432</td>\n",
       "      <td>725.932347</td>\n",
       "      <td>2</td>\n",
       "      <td>-1</td>\n",
       "      <td>-1</td>\n",
       "      <td>T</td>\n",
       "      <td>50</td>\n",
       "      <td>1500</td>\n",
       "      <td>750</td>\n",
       "      <td>750</td>\n",
       "      <td>20</td>\n",
       "      <td>750</td>\n",
       "      <td>300</td>\n",
       "      <td>40.329575</td>\n",
       "      <td>93.272224</td>\n",
       "      <td>18</td>\n",
       "      <td>-9</td>\n",
       "      <td>2.31275</td>\n",
       "      <td>1</td>\n",
       "      <td>6</td>\n",
       "      <td>1</td>\n",
       "      <td>1</td>\n",
       "      <td>2</td>\n",
       "    </tr>\n",
       "    <tr>\n",
       "      <th>4</th>\n",
       "      <td>30000007</td>\n",
       "      <td>5</td>\n",
       "      <td>1993</td>\n",
       "      <td>24</td>\n",
       "      <td>20</td>\n",
       "      <td>20481</td>\n",
       "      <td>1</td>\n",
       "      <td>4</td>\n",
       "      <td>2</td>\n",
       "      <td>300000</td>\n",
       "      <td>-1</td>\n",
       "      <td>1</td>\n",
       "      <td>-1</td>\n",
       "      <td>10000</td>\n",
       "      <td>2</td>\n",
       "      <td>2</td>\n",
       "      <td>2</td>\n",
       "      <td>1</td>\n",
       "      <td>3</td>\n",
       "      <td>5</td>\n",
       "      <td>7</td>\n",
       "      <td>3</td>\n",
       "      <td>NC</td>\n",
       "      <td>37</td>\n",
       "      <td>3</td>\n",
       "      <td>1</td>\n",
       "      <td>201608</td>\n",
       "      <td>10</td>\n",
       "      <td>3</td>\n",
       "      <td>1</td>\n",
       "      <td>2</td>\n",
       "      <td>1</td>\n",
       "      <td>1</td>\n",
       "      <td>1</td>\n",
       "      <td>5</td>\n",
       "      <td>3</td>\n",
       "      <td>53</td>\n",
       "      <td>2</td>\n",
       "      <td>2</td>\n",
       "      <td>XXXXX</td>\n",
       "      <td>2</td>\n",
       "      <td>187.31432</td>\n",
       "      <td>12437.658757</td>\n",
       "      <td>1</td>\n",
       "      <td>-1</td>\n",
       "      <td>-1</td>\n",
       "      <td>T</td>\n",
       "      <td>50</td>\n",
       "      <td>1500</td>\n",
       "      <td>750</td>\n",
       "      <td>750</td>\n",
       "      <td>20</td>\n",
       "      <td>750</td>\n",
       "      <td>300</td>\n",
       "      <td>888.404197</td>\n",
       "      <td>2054.656806</td>\n",
       "      <td>14</td>\n",
       "      <td>-9</td>\n",
       "      <td>2.31275</td>\n",
       "      <td>1</td>\n",
       "      <td>6</td>\n",
       "      <td>1</td>\n",
       "      <td>1</td>\n",
       "      <td>2</td>\n",
       "    </tr>\n",
       "  </tbody>\n",
       "</table>\n",
       "</div>"
      ],
      "text/plain": [
       "    HOUSEID  VEHID  VEHYEAR  VEHAGE MAKE  MODEL  FUELTYPE  VEHTYPE  WHOMAIN  \\\n",
       "0  30000007      1     2007      10   49  49032         1        1        3   \n",
       "1  30000007      2     2004      13   49  49442         1        2       -8   \n",
       "2  30000007      3     1998      19   19  19014         1        1        1   \n",
       "3  30000007      4     1997      20   19  19021         1        1        2   \n",
       "4  30000007      5     1993      24   20  20481         1        4        2   \n",
       "\n",
       "   OD_READ  HFUEL  VEHOWNED  VEHOWNMO  ANNMILES  HYBRID  PERSONID  TRAVDAY  \\\n",
       "0    69000     -1         1        -1      1000       2         3        2   \n",
       "1   164000     -1         1        -1      2500       2        -8        2   \n",
       "2   120000     -1         1        -1       900       2         1        2   \n",
       "3      -88     -1         1        -1       500       2         2        2   \n",
       "4   300000     -1         1        -1     10000       2         2        2   \n",
       "\n",
       "   HOMEOWN  HHSIZE  HHVEHCNT  HHFAMINC  DRVRCNT HHSTATE  HHSTFIPS  NUMADLT  \\\n",
       "0        1       3         5         7        3      NC        37        3   \n",
       "1        1       3         5         7        3      NC        37        3   \n",
       "2        1       3         5         7        3      NC        37        3   \n",
       "3        1       3         5         7        3      NC        37        3   \n",
       "4        1       3         5         7        3      NC        37        3   \n",
       "\n",
       "   WRKCOUNT  TDAYDATE  LIF_CYC  MSACAT  MSASIZE  RAIL  URBAN  URBANSIZE  \\\n",
       "0         1    201608       10       3        1     2      1          1   \n",
       "1         1    201608       10       3        1     2      1          1   \n",
       "2         1    201608       10       3        1     2      1          1   \n",
       "3         1    201608       10       3        1     2      1          1   \n",
       "4         1    201608       10       3        1     2      1          1   \n",
       "\n",
       "   URBRUR  CENSUS_D  CENSUS_R  CDIVMSAR  HH_RACE  HH_HISP HH_CBSA  SMPLSRCE  \\\n",
       "0       1         5         3        53        2        2   XXXXX         2   \n",
       "1       1         5         3        53        2        2   XXXXX         2   \n",
       "2       1         5         3        53        2        2   XXXXX         2   \n",
       "3       1         5         3        53        2        2   XXXXX         2   \n",
       "4       1         5         3        53        2        2   XXXXX         2   \n",
       "\n",
       "     WTHHFIN      BESTMILE  BEST_FLG  BEST_EDT  BEST_OUT HBHUR  HTHTNRNT  \\\n",
       "0  187.31432  14611.926637         1        -1         4     T        50   \n",
       "1  187.31432   4767.090946         3        -1        -1     T        50   \n",
       "2  187.31432   8000.324552         1        -1        -1     T        50   \n",
       "3  187.31432    725.932347         2        -1        -1     T        50   \n",
       "4  187.31432  12437.658757         1        -1        -1     T        50   \n",
       "\n",
       "   HTPPOPDN  HTRESDN  HTEEMPDN  HBHTNRNT  HBPPOPDN  HBRESDN     GSYRGAL  \\\n",
       "0      1500      750       750        20       750      300  487.064221   \n",
       "1      1500      750       750        20       750      300  250.899523   \n",
       "2      1500      750       750        20       750      300  444.462475   \n",
       "3      1500      750       750        20       750      300   40.329575   \n",
       "4      1500      750       750        20       750      300  888.404197   \n",
       "\n",
       "      GSTOTCST  FEGEMPG  FEGEMPGA   GSCOST  FEGEMPGF  CNTTDHH  CAR  PRICE  \\\n",
       "0  1126.457778       30        -9  2.31275         1        6    1      1   \n",
       "1   580.267873       19        -9  2.31275         1        6    1      1   \n",
       "2  1027.930589       18        -9  2.31275         1        6    1      1   \n",
       "3    93.272224       18        -9  2.31275         1        6    1      1   \n",
       "4  2054.656806       14        -9  2.31275         1        6    1      1   \n",
       "\n",
       "   PLACE  \n",
       "0      2  \n",
       "1      2  \n",
       "2      2  \n",
       "3      2  \n",
       "4      2  "
      ]
     },
     "execution_count": 4,
     "metadata": {},
     "output_type": "execute_result"
    }
   ],
   "source": [
    "vehicles_df = vehicles.merge(households[['HOUSEID', 'CNTTDHH', 'CAR', 'PRICE', 'PLACE']], on='HOUSEID', how='left')\n",
    "vehicles_df.head(5)"
   ]
  },
  {
   "cell_type": "code",
   "execution_count": 5,
   "id": "1b9babcd",
   "metadata": {},
   "outputs": [
    {
     "data": {
      "text/html": [
       "<div>\n",
       "<style scoped>\n",
       "    .dataframe tbody tr th:only-of-type {\n",
       "        vertical-align: middle;\n",
       "    }\n",
       "\n",
       "    .dataframe tbody tr th {\n",
       "        vertical-align: top;\n",
       "    }\n",
       "\n",
       "    .dataframe thead th {\n",
       "        text-align: right;\n",
       "    }\n",
       "</style>\n",
       "<table border=\"1\" class=\"dataframe\">\n",
       "  <thead>\n",
       "    <tr style=\"text-align: right;\">\n",
       "      <th></th>\n",
       "      <th>HOUSEID</th>\n",
       "      <th>VEHID</th>\n",
       "      <th>VEHYEAR</th>\n",
       "      <th>VEHAGE</th>\n",
       "      <th>MAKE</th>\n",
       "      <th>MODEL</th>\n",
       "      <th>FUELTYPE</th>\n",
       "      <th>VEHTYPE</th>\n",
       "      <th>WHOMAIN</th>\n",
       "      <th>OD_READ</th>\n",
       "      <th>HFUEL</th>\n",
       "      <th>VEHOWNED</th>\n",
       "      <th>VEHOWNMO</th>\n",
       "      <th>ANNMILES</th>\n",
       "      <th>HYBRID</th>\n",
       "      <th>PERSONID</th>\n",
       "      <th>TRAVDAY</th>\n",
       "      <th>HOMEOWN</th>\n",
       "      <th>HHSIZE</th>\n",
       "      <th>HHVEHCNT</th>\n",
       "      <th>HHFAMINC</th>\n",
       "      <th>DRVRCNT</th>\n",
       "      <th>HHSTATE</th>\n",
       "      <th>HHSTFIPS</th>\n",
       "      <th>NUMADLT</th>\n",
       "      <th>WRKCOUNT</th>\n",
       "      <th>TDAYDATE</th>\n",
       "      <th>LIF_CYC</th>\n",
       "      <th>MSACAT</th>\n",
       "      <th>MSASIZE</th>\n",
       "      <th>RAIL</th>\n",
       "      <th>URBAN</th>\n",
       "      <th>URBANSIZE</th>\n",
       "      <th>URBRUR</th>\n",
       "      <th>CENSUS_D</th>\n",
       "      <th>CENSUS_R</th>\n",
       "      <th>CDIVMSAR</th>\n",
       "      <th>HH_RACE</th>\n",
       "      <th>HH_HISP</th>\n",
       "      <th>HH_CBSA</th>\n",
       "      <th>SMPLSRCE</th>\n",
       "      <th>WTHHFIN</th>\n",
       "      <th>BESTMILE</th>\n",
       "      <th>BEST_FLG</th>\n",
       "      <th>BEST_EDT</th>\n",
       "      <th>BEST_OUT</th>\n",
       "      <th>HBHUR</th>\n",
       "      <th>HTHTNRNT</th>\n",
       "      <th>HTPPOPDN</th>\n",
       "      <th>HTRESDN</th>\n",
       "      <th>HTEEMPDN</th>\n",
       "      <th>HBHTNRNT</th>\n",
       "      <th>HBPPOPDN</th>\n",
       "      <th>HBRESDN</th>\n",
       "      <th>GSYRGAL</th>\n",
       "      <th>GSTOTCST</th>\n",
       "      <th>FEGEMPG</th>\n",
       "      <th>FEGEMPGA</th>\n",
       "      <th>GSCOST</th>\n",
       "      <th>FEGEMPGF</th>\n",
       "      <th>CNTTDHH</th>\n",
       "      <th>CAR</th>\n",
       "      <th>PRICE</th>\n",
       "      <th>PLACE</th>\n",
       "    </tr>\n",
       "  </thead>\n",
       "  <tbody>\n",
       "    <tr>\n",
       "      <th>0</th>\n",
       "      <td>30000007</td>\n",
       "      <td>1</td>\n",
       "      <td>2007</td>\n",
       "      <td>10</td>\n",
       "      <td>49</td>\n",
       "      <td>49032</td>\n",
       "      <td>Gas</td>\n",
       "      <td>Automobile</td>\n",
       "      <td>3</td>\n",
       "      <td>69000</td>\n",
       "      <td>-1</td>\n",
       "      <td>1</td>\n",
       "      <td>-1</td>\n",
       "      <td>1000</td>\n",
       "      <td>2</td>\n",
       "      <td>3</td>\n",
       "      <td>2</td>\n",
       "      <td>1</td>\n",
       "      <td>3</td>\n",
       "      <td>5</td>\n",
       "      <td>7</td>\n",
       "      <td>3</td>\n",
       "      <td>NC</td>\n",
       "      <td>37</td>\n",
       "      <td>3</td>\n",
       "      <td>1</td>\n",
       "      <td>201608</td>\n",
       "      <td>10</td>\n",
       "      <td>3</td>\n",
       "      <td>1</td>\n",
       "      <td>2</td>\n",
       "      <td>1</td>\n",
       "      <td>1</td>\n",
       "      <td>1</td>\n",
       "      <td>5</td>\n",
       "      <td>3</td>\n",
       "      <td>53</td>\n",
       "      <td>2</td>\n",
       "      <td>2</td>\n",
       "      <td>XXXXX</td>\n",
       "      <td>2</td>\n",
       "      <td>187.31432</td>\n",
       "      <td>14611.926637</td>\n",
       "      <td>1</td>\n",
       "      <td>-1</td>\n",
       "      <td>4</td>\n",
       "      <td>T</td>\n",
       "      <td>50</td>\n",
       "      <td>1500</td>\n",
       "      <td>750</td>\n",
       "      <td>750</td>\n",
       "      <td>20</td>\n",
       "      <td>750</td>\n",
       "      <td>300</td>\n",
       "      <td>487.064221</td>\n",
       "      <td>1126.457778</td>\n",
       "      <td>30</td>\n",
       "      <td>-9</td>\n",
       "      <td>2.31275</td>\n",
       "      <td>1</td>\n",
       "      <td>6</td>\n",
       "      <td>1</td>\n",
       "      <td>1</td>\n",
       "      <td>2</td>\n",
       "    </tr>\n",
       "    <tr>\n",
       "      <th>1</th>\n",
       "      <td>30000007</td>\n",
       "      <td>2</td>\n",
       "      <td>2004</td>\n",
       "      <td>13</td>\n",
       "      <td>49</td>\n",
       "      <td>49442</td>\n",
       "      <td>Gas</td>\n",
       "      <td>Van</td>\n",
       "      <td>-8</td>\n",
       "      <td>164000</td>\n",
       "      <td>-1</td>\n",
       "      <td>1</td>\n",
       "      <td>-1</td>\n",
       "      <td>2500</td>\n",
       "      <td>2</td>\n",
       "      <td>-8</td>\n",
       "      <td>2</td>\n",
       "      <td>1</td>\n",
       "      <td>3</td>\n",
       "      <td>5</td>\n",
       "      <td>7</td>\n",
       "      <td>3</td>\n",
       "      <td>NC</td>\n",
       "      <td>37</td>\n",
       "      <td>3</td>\n",
       "      <td>1</td>\n",
       "      <td>201608</td>\n",
       "      <td>10</td>\n",
       "      <td>3</td>\n",
       "      <td>1</td>\n",
       "      <td>2</td>\n",
       "      <td>1</td>\n",
       "      <td>1</td>\n",
       "      <td>1</td>\n",
       "      <td>5</td>\n",
       "      <td>3</td>\n",
       "      <td>53</td>\n",
       "      <td>2</td>\n",
       "      <td>2</td>\n",
       "      <td>XXXXX</td>\n",
       "      <td>2</td>\n",
       "      <td>187.31432</td>\n",
       "      <td>4767.090946</td>\n",
       "      <td>3</td>\n",
       "      <td>-1</td>\n",
       "      <td>-1</td>\n",
       "      <td>T</td>\n",
       "      <td>50</td>\n",
       "      <td>1500</td>\n",
       "      <td>750</td>\n",
       "      <td>750</td>\n",
       "      <td>20</td>\n",
       "      <td>750</td>\n",
       "      <td>300</td>\n",
       "      <td>250.899523</td>\n",
       "      <td>580.267873</td>\n",
       "      <td>19</td>\n",
       "      <td>-9</td>\n",
       "      <td>2.31275</td>\n",
       "      <td>1</td>\n",
       "      <td>6</td>\n",
       "      <td>1</td>\n",
       "      <td>1</td>\n",
       "      <td>2</td>\n",
       "    </tr>\n",
       "    <tr>\n",
       "      <th>2</th>\n",
       "      <td>30000007</td>\n",
       "      <td>3</td>\n",
       "      <td>1998</td>\n",
       "      <td>19</td>\n",
       "      <td>19</td>\n",
       "      <td>19014</td>\n",
       "      <td>Gas</td>\n",
       "      <td>Automobile</td>\n",
       "      <td>1</td>\n",
       "      <td>120000</td>\n",
       "      <td>-1</td>\n",
       "      <td>1</td>\n",
       "      <td>-1</td>\n",
       "      <td>900</td>\n",
       "      <td>2</td>\n",
       "      <td>1</td>\n",
       "      <td>2</td>\n",
       "      <td>1</td>\n",
       "      <td>3</td>\n",
       "      <td>5</td>\n",
       "      <td>7</td>\n",
       "      <td>3</td>\n",
       "      <td>NC</td>\n",
       "      <td>37</td>\n",
       "      <td>3</td>\n",
       "      <td>1</td>\n",
       "      <td>201608</td>\n",
       "      <td>10</td>\n",
       "      <td>3</td>\n",
       "      <td>1</td>\n",
       "      <td>2</td>\n",
       "      <td>1</td>\n",
       "      <td>1</td>\n",
       "      <td>1</td>\n",
       "      <td>5</td>\n",
       "      <td>3</td>\n",
       "      <td>53</td>\n",
       "      <td>2</td>\n",
       "      <td>2</td>\n",
       "      <td>XXXXX</td>\n",
       "      <td>2</td>\n",
       "      <td>187.31432</td>\n",
       "      <td>8000.324552</td>\n",
       "      <td>1</td>\n",
       "      <td>-1</td>\n",
       "      <td>-1</td>\n",
       "      <td>T</td>\n",
       "      <td>50</td>\n",
       "      <td>1500</td>\n",
       "      <td>750</td>\n",
       "      <td>750</td>\n",
       "      <td>20</td>\n",
       "      <td>750</td>\n",
       "      <td>300</td>\n",
       "      <td>444.462475</td>\n",
       "      <td>1027.930589</td>\n",
       "      <td>18</td>\n",
       "      <td>-9</td>\n",
       "      <td>2.31275</td>\n",
       "      <td>1</td>\n",
       "      <td>6</td>\n",
       "      <td>1</td>\n",
       "      <td>1</td>\n",
       "      <td>2</td>\n",
       "    </tr>\n",
       "    <tr>\n",
       "      <th>3</th>\n",
       "      <td>30000007</td>\n",
       "      <td>4</td>\n",
       "      <td>1997</td>\n",
       "      <td>20</td>\n",
       "      <td>19</td>\n",
       "      <td>19021</td>\n",
       "      <td>Gas</td>\n",
       "      <td>Automobile</td>\n",
       "      <td>2</td>\n",
       "      <td>-88</td>\n",
       "      <td>-1</td>\n",
       "      <td>1</td>\n",
       "      <td>-1</td>\n",
       "      <td>500</td>\n",
       "      <td>2</td>\n",
       "      <td>2</td>\n",
       "      <td>2</td>\n",
       "      <td>1</td>\n",
       "      <td>3</td>\n",
       "      <td>5</td>\n",
       "      <td>7</td>\n",
       "      <td>3</td>\n",
       "      <td>NC</td>\n",
       "      <td>37</td>\n",
       "      <td>3</td>\n",
       "      <td>1</td>\n",
       "      <td>201608</td>\n",
       "      <td>10</td>\n",
       "      <td>3</td>\n",
       "      <td>1</td>\n",
       "      <td>2</td>\n",
       "      <td>1</td>\n",
       "      <td>1</td>\n",
       "      <td>1</td>\n",
       "      <td>5</td>\n",
       "      <td>3</td>\n",
       "      <td>53</td>\n",
       "      <td>2</td>\n",
       "      <td>2</td>\n",
       "      <td>XXXXX</td>\n",
       "      <td>2</td>\n",
       "      <td>187.31432</td>\n",
       "      <td>725.932347</td>\n",
       "      <td>2</td>\n",
       "      <td>-1</td>\n",
       "      <td>-1</td>\n",
       "      <td>T</td>\n",
       "      <td>50</td>\n",
       "      <td>1500</td>\n",
       "      <td>750</td>\n",
       "      <td>750</td>\n",
       "      <td>20</td>\n",
       "      <td>750</td>\n",
       "      <td>300</td>\n",
       "      <td>40.329575</td>\n",
       "      <td>93.272224</td>\n",
       "      <td>18</td>\n",
       "      <td>-9</td>\n",
       "      <td>2.31275</td>\n",
       "      <td>1</td>\n",
       "      <td>6</td>\n",
       "      <td>1</td>\n",
       "      <td>1</td>\n",
       "      <td>2</td>\n",
       "    </tr>\n",
       "    <tr>\n",
       "      <th>4</th>\n",
       "      <td>30000007</td>\n",
       "      <td>5</td>\n",
       "      <td>1993</td>\n",
       "      <td>24</td>\n",
       "      <td>20</td>\n",
       "      <td>20481</td>\n",
       "      <td>Gas</td>\n",
       "      <td>Truck</td>\n",
       "      <td>2</td>\n",
       "      <td>300000</td>\n",
       "      <td>-1</td>\n",
       "      <td>1</td>\n",
       "      <td>-1</td>\n",
       "      <td>10000</td>\n",
       "      <td>2</td>\n",
       "      <td>2</td>\n",
       "      <td>2</td>\n",
       "      <td>1</td>\n",
       "      <td>3</td>\n",
       "      <td>5</td>\n",
       "      <td>7</td>\n",
       "      <td>3</td>\n",
       "      <td>NC</td>\n",
       "      <td>37</td>\n",
       "      <td>3</td>\n",
       "      <td>1</td>\n",
       "      <td>201608</td>\n",
       "      <td>10</td>\n",
       "      <td>3</td>\n",
       "      <td>1</td>\n",
       "      <td>2</td>\n",
       "      <td>1</td>\n",
       "      <td>1</td>\n",
       "      <td>1</td>\n",
       "      <td>5</td>\n",
       "      <td>3</td>\n",
       "      <td>53</td>\n",
       "      <td>2</td>\n",
       "      <td>2</td>\n",
       "      <td>XXXXX</td>\n",
       "      <td>2</td>\n",
       "      <td>187.31432</td>\n",
       "      <td>12437.658757</td>\n",
       "      <td>1</td>\n",
       "      <td>-1</td>\n",
       "      <td>-1</td>\n",
       "      <td>T</td>\n",
       "      <td>50</td>\n",
       "      <td>1500</td>\n",
       "      <td>750</td>\n",
       "      <td>750</td>\n",
       "      <td>20</td>\n",
       "      <td>750</td>\n",
       "      <td>300</td>\n",
       "      <td>888.404197</td>\n",
       "      <td>2054.656806</td>\n",
       "      <td>14</td>\n",
       "      <td>-9</td>\n",
       "      <td>2.31275</td>\n",
       "      <td>1</td>\n",
       "      <td>6</td>\n",
       "      <td>1</td>\n",
       "      <td>1</td>\n",
       "      <td>2</td>\n",
       "    </tr>\n",
       "  </tbody>\n",
       "</table>\n",
       "</div>"
      ],
      "text/plain": [
       "    HOUSEID  VEHID  VEHYEAR  VEHAGE MAKE  MODEL FUELTYPE     VEHTYPE  WHOMAIN  \\\n",
       "0  30000007      1     2007      10   49  49032      Gas  Automobile        3   \n",
       "1  30000007      2     2004      13   49  49442      Gas         Van       -8   \n",
       "2  30000007      3     1998      19   19  19014      Gas  Automobile        1   \n",
       "3  30000007      4     1997      20   19  19021      Gas  Automobile        2   \n",
       "4  30000007      5     1993      24   20  20481      Gas       Truck        2   \n",
       "\n",
       "   OD_READ  HFUEL  VEHOWNED  VEHOWNMO  ANNMILES  HYBRID  PERSONID  TRAVDAY  \\\n",
       "0    69000     -1         1        -1      1000       2         3        2   \n",
       "1   164000     -1         1        -1      2500       2        -8        2   \n",
       "2   120000     -1         1        -1       900       2         1        2   \n",
       "3      -88     -1         1        -1       500       2         2        2   \n",
       "4   300000     -1         1        -1     10000       2         2        2   \n",
       "\n",
       "   HOMEOWN  HHSIZE  HHVEHCNT  HHFAMINC  DRVRCNT HHSTATE  HHSTFIPS  NUMADLT  \\\n",
       "0        1       3         5         7        3      NC        37        3   \n",
       "1        1       3         5         7        3      NC        37        3   \n",
       "2        1       3         5         7        3      NC        37        3   \n",
       "3        1       3         5         7        3      NC        37        3   \n",
       "4        1       3         5         7        3      NC        37        3   \n",
       "\n",
       "   WRKCOUNT  TDAYDATE  LIF_CYC  MSACAT  MSASIZE  RAIL  URBAN  URBANSIZE  \\\n",
       "0         1    201608       10       3        1     2      1          1   \n",
       "1         1    201608       10       3        1     2      1          1   \n",
       "2         1    201608       10       3        1     2      1          1   \n",
       "3         1    201608       10       3        1     2      1          1   \n",
       "4         1    201608       10       3        1     2      1          1   \n",
       "\n",
       "   URBRUR  CENSUS_D  CENSUS_R  CDIVMSAR  HH_RACE  HH_HISP HH_CBSA  SMPLSRCE  \\\n",
       "0       1         5         3        53        2        2   XXXXX         2   \n",
       "1       1         5         3        53        2        2   XXXXX         2   \n",
       "2       1         5         3        53        2        2   XXXXX         2   \n",
       "3       1         5         3        53        2        2   XXXXX         2   \n",
       "4       1         5         3        53        2        2   XXXXX         2   \n",
       "\n",
       "     WTHHFIN      BESTMILE  BEST_FLG  BEST_EDT  BEST_OUT HBHUR  HTHTNRNT  \\\n",
       "0  187.31432  14611.926637         1        -1         4     T        50   \n",
       "1  187.31432   4767.090946         3        -1        -1     T        50   \n",
       "2  187.31432   8000.324552         1        -1        -1     T        50   \n",
       "3  187.31432    725.932347         2        -1        -1     T        50   \n",
       "4  187.31432  12437.658757         1        -1        -1     T        50   \n",
       "\n",
       "   HTPPOPDN  HTRESDN  HTEEMPDN  HBHTNRNT  HBPPOPDN  HBRESDN     GSYRGAL  \\\n",
       "0      1500      750       750        20       750      300  487.064221   \n",
       "1      1500      750       750        20       750      300  250.899523   \n",
       "2      1500      750       750        20       750      300  444.462475   \n",
       "3      1500      750       750        20       750      300   40.329575   \n",
       "4      1500      750       750        20       750      300  888.404197   \n",
       "\n",
       "      GSTOTCST  FEGEMPG  FEGEMPGA   GSCOST  FEGEMPGF  CNTTDHH  CAR  PRICE  \\\n",
       "0  1126.457778       30        -9  2.31275         1        6    1      1   \n",
       "1   580.267873       19        -9  2.31275         1        6    1      1   \n",
       "2  1027.930589       18        -9  2.31275         1        6    1      1   \n",
       "3    93.272224       18        -9  2.31275         1        6    1      1   \n",
       "4  2054.656806       14        -9  2.31275         1        6    1      1   \n",
       "\n",
       "   PLACE  \n",
       "0      2  \n",
       "1      2  \n",
       "2      2  \n",
       "3      2  \n",
       "4      2  "
      ]
     },
     "execution_count": 5,
     "metadata": {},
     "output_type": "execute_result"
    }
   ],
   "source": [
    "vehicles_df['VEHTYPE'] = vehicles_df['VEHTYPE'].replace(5, 4)\n",
    "vehicles_df['FUELTYPE'] = vehicles_df['FUELTYPE'].replace(6, 4)\n",
    "vehicles_df = vehicles_df[(vehicles_df['VEHTYPE'] > 0)\n",
    "                    & (vehicles_df['VEHTYPE'] != 6)\n",
    "                    & (vehicles_df['VEHTYPE'] != 97)\n",
    "                    & (vehicles_df['FUELTYPE'] > 0)\n",
    "                    & (vehicles_df['FUELTYPE'] != 97)\n",
    "                    & (vehicles_df['VEHAGE'] > 0)\n",
    "                    & (vehicles_df['HTPPOPDN'] != -9)\n",
    "                    & (vehicles_df['CAR'] > 0)\n",
    "                    & (vehicles_df['PRICE'] > 0)\n",
    "                    & (vehicles_df['PLACE'] > 0)]\n",
    "vehicles_df.loc[vehicles_df['VEHTYPE'] == 1, 'VEHTYPE'] = \"Automobile\"\n",
    "vehicles_df.loc[vehicles_df['VEHTYPE'] == 2, 'VEHTYPE'] = \"Van\"\n",
    "vehicles_df.loc[vehicles_df['VEHTYPE'] == 3, 'VEHTYPE'] = \"SUV\"\n",
    "vehicles_df.loc[vehicles_df['VEHTYPE'] == 4, 'VEHTYPE'] = \"Truck\"\n",
    "vehicles_df.loc[vehicles_df['VEHTYPE'] == 7, 'VEHTYPE'] = \"Motorcycle\"\n",
    "vehicles_df.loc[vehicles_df['FUELTYPE'] == 1, 'FUELTYPE'] = \"Gas\"\n",
    "vehicles_df.loc[vehicles_df['FUELTYPE'] == 2, 'FUELTYPE'] = \"Diesel\"\n",
    "vehicles_df.loc[vehicles_df['FUELTYPE'] == 3, 'FUELTYPE'] = \"Hybrid\"\n",
    "vehicles_df.head(5)"
   ]
  },
  {
   "cell_type": "code",
   "execution_count": 6,
   "id": "1a644484",
   "metadata": {},
   "outputs": [],
   "source": [
    "pd.set_option('display.max_columns', 10)"
   ]
  },
  {
   "cell_type": "code",
   "execution_count": 7,
   "id": "45b08831",
   "metadata": {},
   "outputs": [
    {
     "data": {
      "text/plain": [
       "<seaborn.axisgrid.FacetGrid at 0x7f35f417f640>"
      ]
     },
     "execution_count": 7,
     "metadata": {},
     "output_type": "execute_result"
    },
    {
     "data": {
      "image/png": "[encoded data removed]",
      "text/plain": [
       "<Figure size 1080x360 with 1 Axes>"
      ]
     },
     "metadata": {
      "needs_background": "light"
     },
     "output_type": "display_data"
    }
   ],
   "source": [
    "sns.catplot(data=vehicles_df[vehicles_df['VEHAGE'] >= 0], kind='count', x='VEHAGE', aspect=3)"
   ]
  },
  {
   "cell_type": "markdown",
   "id": "86c7b37d",
   "metadata": {},
   "source": [
    "Pretty steady increase in vehicle data year by year with a couple of exceptions. There seems to be a big gap between 1977 and 1985, with an unusually high amount of cars registered in 1977. Vehicle ownership seems to have gone down in 2009 post financial crisis as well."
   ]
  },
  {
   "cell_type": "code",
   "execution_count": 8,
   "id": "b5ee9770",
   "metadata": {},
   "outputs": [
    {
     "data": {
      "text/plain": [
       "<AxesSubplot:xlabel='CAR,CAR'>"
      ]
     },
     "execution_count": 8,
     "metadata": {},
     "output_type": "execute_result"
    },
    {
     "data": {
      "image/png": "[encoded data removed]",
      "text/plain": [
       "<Figure size 432x288 with 1 Axes>"
      ]
     },
     "metadata": {
      "needs_background": "light"
     },
     "output_type": "display_data"
    }
   ],
   "source": [
    "temp = vehicles_df.groupby([\"CAR\", \"VEHTYPE\"]).count()[\"HOUSEID\"]\n",
    "temp.groupby(\"CAR\").apply(lambda x: x / float(x.sum())).unstack().plot.bar(stacked = True)"
   ]
  },
  {
   "cell_type": "code",
   "execution_count": 9,
   "id": "f0e5b35d",
   "metadata": {},
   "outputs": [
    {
     "data": {
      "text/plain": [
       "<AxesSubplot:xlabel='PLACE,PLACE'>"
      ]
     },
     "execution_count": 9,
     "metadata": {},
     "output_type": "execute_result"
    },
    {
     "data": {
      "image/png": "[encoded data removed]",
      "text/plain": [
       "<Figure size 432x288 with 1 Axes>"
      ]
     },
     "metadata": {
      "needs_background": "light"
     },
     "output_type": "display_data"
    }
   ],
   "source": [
    "temp = vehicles_df.groupby([\"PLACE\", \"VEHTYPE\"]).count()[\"HOUSEID\"]\n",
    "temp.groupby(\"PLACE\").apply(lambda x: x / float(x.sum())).unstack().plot.bar(stacked = True)"
   ]
  },
  {
   "cell_type": "code",
   "execution_count": 10,
   "id": "d26bfd39",
   "metadata": {},
   "outputs": [
    {
     "data": {
      "text/plain": [
       "<AxesSubplot:xlabel='PRICE,PRICE'>"
      ]
     },
     "execution_count": 10,
     "metadata": {},
     "output_type": "execute_result"
    },
    {
     "data": {
      "image/png": "[encoded data removed]",
      "text/plain": [
       "<Figure size 432x288 with 1 Axes>"
      ]
     },
     "metadata": {
      "needs_background": "light"
     },
     "output_type": "display_data"
    }
   ],
   "source": [
    "temp = vehicles_df.groupby([\"PRICE\", \"VEHTYPE\"]).count()[\"HOUSEID\"]\n",
    "temp.groupby(\"PRICE\").apply(lambda x: x / float(x.sum())).unstack().plot.bar(stacked = True)"
   ]
  },
  {
   "cell_type": "code",
   "execution_count": 11,
   "id": "a7d5f051",
   "metadata": {},
   "outputs": [
    {
     "data": {
      "text/plain": [
       "<AxesSubplot:xlabel='HTPPOPDN,HTPPOPDN'>"
      ]
     },
     "execution_count": 11,
     "metadata": {},
     "output_type": "execute_result"
    },
    {
     "data": {
      "image/png": "[encoded data removed]",
      "text/plain": [
       "<Figure size 432x288 with 1 Axes>"
      ]
     },
     "metadata": {
      "needs_background": "light"
     },
     "output_type": "display_data"
    }
   ],
   "source": [
    "temp = vehicles_df.groupby([\"HTPPOPDN\", \"VEHTYPE\"]).count()[\"HOUSEID\"]\n",
    "temp.groupby(\"HTPPOPDN\").apply(lambda x: x / float(x.sum())).unstack().plot.bar(stacked = True)"
   ]
  },
  {
   "cell_type": "code",
   "execution_count": 12,
   "id": "c29ac332",
   "metadata": {},
   "outputs": [
    {
     "data": {
      "text/plain": [
       "<AxesSubplot:xlabel='HBRESDN,HBRESDN'>"
      ]
     },
     "execution_count": 12,
     "metadata": {},
     "output_type": "execute_result"
    },
    {
     "data": {
      "image/png": "[encoded data removed]",
      "text/plain": [
       "<Figure size 432x288 with 1 Axes>"
      ]
     },
     "metadata": {
      "needs_background": "light"
     },
     "output_type": "display_data"
    }
   ],
   "source": [
    "temp = vehicles_df.groupby([\"HBRESDN\", \"VEHTYPE\"]).count()[\"HOUSEID\"]\n",
    "temp.groupby(\"HBRESDN\").apply(lambda x: x / float(x.sum())).unstack().plot.bar(stacked = True)"
   ]
  },
  {
   "cell_type": "code",
   "execution_count": 23,
   "id": "9fd116bd",
   "metadata": {},
   "outputs": [
    {
     "data": {
      "text/plain": [
       "<AxesSubplot:xlabel='MSACAT,MSACAT'>"
      ]
     },
     "execution_count": 23,
     "metadata": {},
     "output_type": "execute_result"
    },
    {
     "data": {
      "image/png": "[encoded data removed]",
      "text/plain": [
       "<Figure size 432x288 with 1 Axes>"
      ]
     },
     "metadata": {
      "needs_background": "light"
     },
     "output_type": "display_data"
    }
   ],
   "source": [
    "temp = vehicles_df.groupby([\"MSACAT\", \"VEHTYPE\"]).count()[\"HOUSEID\"]\n",
    "temp.groupby(\"MSACAT\").apply(lambda x: x / float(x.sum())).unstack().plot.bar(stacked = True)"
   ]
  },
  {
   "cell_type": "code",
   "execution_count": 24,
   "id": "b47c1f99",
   "metadata": {},
   "outputs": [
    {
     "data": {
      "text/plain": [
       "<AxesSubplot:xlabel='MSASIZE,MSASIZE'>"
      ]
     },
     "execution_count": 24,
     "metadata": {},
     "output_type": "execute_result"
    },
    {
     "data": {
      "image/png": "[encoded data removed]",
      "text/plain": [
       "<Figure size 432x288 with 1 Axes>"
      ]
     },
     "metadata": {
      "needs_background": "light"
     },
     "output_type": "display_data"
    }
   ],
   "source": [
    "temp = vehicles_df.groupby([\"MSASIZE\", \"VEHTYPE\"]).count()[\"HOUSEID\"]\n",
    "temp.groupby(\"MSASIZE\").apply(lambda x: x / float(x.sum())).unstack().plot.bar(stacked = True)"
   ]
  },
  {
   "cell_type": "code",
   "execution_count": 25,
   "id": "b18ba0f0",
   "metadata": {},
   "outputs": [
    {
     "data": {
      "text/plain": [
       "<AxesSubplot:xlabel='NUMADLT,NUMADLT'>"
      ]
     },
     "execution_count": 25,
     "metadata": {},
     "output_type": "execute_result"
    },
    {
     "data": {
      "image/png": "[encoded data removed]",
      "text/plain": [
       "<Figure size 432x288 with 1 Axes>"
      ]
     },
     "metadata": {
      "needs_background": "light"
     },
     "output_type": "display_data"
    }
   ],
   "source": [
    "temp = vehicles_df.groupby([\"NUMADLT\", \"VEHTYPE\"]).count()[\"HOUSEID\"]\n",
    "temp.groupby(\"NUMADLT\").apply(lambda x: x / float(x.sum())).unstack().plot.bar(stacked = True)"
   ]
  },
  {
   "cell_type": "code",
   "execution_count": 26,
   "id": "2eaee0f3",
   "metadata": {},
   "outputs": [
    {
     "data": {
      "text/plain": [
       "<AxesSubplot:xlabel='HHVEHCNT,HHVEHCNT'>"
      ]
     },
     "execution_count": 26,
     "metadata": {},
     "output_type": "execute_result"
    },
    {
     "data": {
      "image/png": "[encoded data removed]",
      "text/plain": [
       "<Figure size 432x288 with 1 Axes>"
      ]
     },
     "metadata": {
      "needs_background": "light"
     },
     "output_type": "display_data"
    }
   ],
   "source": [
    "temp = vehicles_df.groupby([\"HHVEHCNT\", \"VEHTYPE\"]).count()[\"HOUSEID\"]\n",
    "temp.groupby(\"HHVEHCNT\").apply(lambda x: x / float(x.sum())).unstack().plot.bar(stacked = True)"
   ]
  },
  {
   "cell_type": "code",
   "execution_count": 18,
   "id": "060d5cc6",
   "metadata": {},
   "outputs": [
    {
     "data": {
      "text/plain": [
       "<AxesSubplot:xlabel='DRVRCNT,DRVRCNT'>"
      ]
     },
     "execution_count": 18,
     "metadata": {},
     "output_type": "execute_result"
    },
    {
     "data": {
      "image/png": "[encoded data removed]",
      "text/plain": [
       "<Figure size 432x288 with 1 Axes>"
      ]
     },
     "metadata": {
      "needs_background": "light"
     },
     "output_type": "display_data"
    }
   ],
   "source": [
    "temp = vehicles_df.groupby([\"DRVRCNT\", \"VEHTYPE\"]).count()[\"HOUSEID\"]\n",
    "temp.groupby(\"DRVRCNT\").apply(lambda x: x / float(x.sum())).unstack().plot.bar(stacked = True)"
   ]
  },
  {
   "cell_type": "code",
   "execution_count": 27,
   "id": "4d35e314",
   "metadata": {},
   "outputs": [
    {
     "data": {
      "text/plain": [
       "<AxesSubplot:xlabel='HHFAMINC,HHFAMINC'>"
      ]
     },
     "execution_count": 27,
     "metadata": {},
     "output_type": "execute_result"
    },
    {
     "data": {
      "image/png": "[encoded data removed]",
      "text/plain": [
       "<Figure size 432x288 with 1 Axes>"
      ]
     },
     "metadata": {
      "needs_background": "light"
     },
     "output_type": "display_data"
    }
   ],
   "source": [
    "temp = vehicles_df.groupby([\"HHFAMINC\", \"VEHTYPE\"]).count()[\"HOUSEID\"].drop([-9, -8, -7])\n",
    "temp.groupby(\"HHFAMINC\").apply(lambda x: x / float(x.sum())).unstack().plot.bar(stacked = True)"
   ]
  },
  {
   "cell_type": "code",
   "execution_count": 28,
   "id": "183e5984",
   "metadata": {},
   "outputs": [
    {
     "data": {
      "text/plain": [
       "<AxesSubplot:xlabel='HBHUR,HBHUR'>"
      ]
     },
     "execution_count": 28,
     "metadata": {},
     "output_type": "execute_result"
    },
    {
     "data": {
      "image/png": "[encoded data removed]",
      "text/plain": [
       "<Figure size 432x288 with 1 Axes>"
      ]
     },
     "metadata": {
      "needs_background": "light"
     },
     "output_type": "display_data"
    }
   ],
   "source": [
    "temp = vehicles_df.groupby([\"HBHUR\", \"VEHTYPE\"]).count()[\"HOUSEID\"]\n",
    "temp.groupby(\"HBHUR\").apply(lambda x: x / float(x.sum())).unstack().plot.bar(stacked = True)"
   ]
  },
  {
   "cell_type": "code",
   "execution_count": 29,
   "id": "6bdf56bd",
   "metadata": {},
   "outputs": [
    {
     "data": {
      "text/plain": [
       "<AxesSubplot:xlabel='LIF_CYC,LIF_CYC'>"
      ]
     },
     "execution_count": 29,
     "metadata": {},
     "output_type": "execute_result"
    },
    {
     "data": {
      "image/png": "[encoded data removed]",
      "text/plain": [
       "<Figure size 432x288 with 1 Axes>"
      ]
     },
     "metadata": {
      "needs_background": "light"
     },
     "output_type": "display_data"
    }
   ],
   "source": [
    "temp = vehicles_df.groupby([\"LIF_CYC\", \"VEHTYPE\"]).count()[\"HOUSEID\"].drop(-9)\n",
    "temp.groupby(\"LIF_CYC\").apply(lambda x: x / float(x.sum())).unstack().plot.bar(stacked = True)"
   ]
  },
  {
   "cell_type": "code",
   "execution_count": 30,
   "id": "6e0c3598",
   "metadata": {},
   "outputs": [
    {
     "data": {
      "text/plain": [
       "<AxesSubplot:xlabel='CDIVMSAR,CDIVMSAR'>"
      ]
     },
     "execution_count": 30,
     "metadata": {},
     "output_type": "execute_result"
    },
    {
     "data": {
      "image/png": "[encoded data removed]",
      "text/plain": [
       "<Figure size 432x288 with 1 Axes>"
      ]
     },
     "metadata": {
      "needs_background": "light"
     },
     "output_type": "display_data"
    }
   ],
   "source": [
    "temp = vehicles_df.groupby([\"CDIVMSAR\", \"VEHTYPE\"]).count()[\"HOUSEID\"]\n",
    "temp.groupby(\"CDIVMSAR\").apply(lambda x: x / float(x.sum())).unstack().plot.bar(stacked = True)"
   ]
  },
  {
   "cell_type": "code",
   "execution_count": 32,
   "id": "f95ba897",
   "metadata": {},
   "outputs": [
    {
     "data": {
      "text/plain": [
       "<AxesSubplot:xlabel='CENSUS_D,CENSUS_D'>"
      ]
     },
     "execution_count": 32,
     "metadata": {},
     "output_type": "execute_result"
    },
    {
     "data": {
      "image/png": "[encoded data removed]",
      "text/plain": [
       "<Figure size 432x288 with 1 Axes>"
      ]
     },
     "metadata": {
      "needs_background": "light"
     },
     "output_type": "display_data"
    }
   ],
   "source": [
    "temp = vehicles_df.groupby([\"CENSUS_D\", \"VEHTYPE\"]).count()[\"HOUSEID\"]\n",
    "temp.groupby(\"CENSUS_D\").apply(lambda x: x / float(x.sum())).unstack().plot.bar(stacked = True)"
   ]
  },
  {
   "cell_type": "code",
   "execution_count": 33,
   "id": "27fdee45",
   "metadata": {},
   "outputs": [
    {
     "data": {
      "text/plain": [
       "<AxesSubplot:xlabel='CENSUS_R,CENSUS_R'>"
      ]
     },
     "execution_count": 33,
     "metadata": {},
     "output_type": "execute_result"
    },
    {
     "data": {
      "image/png": "[encoded data removed]",
      "text/plain": [
       "<Figure size 432x288 with 1 Axes>"
      ]
     },
     "metadata": {
      "needs_background": "light"
     },
     "output_type": "display_data"
    }
   ],
   "source": [
    "temp = vehicles_df.groupby([\"CENSUS_R\", \"VEHTYPE\"]).count()[\"HOUSEID\"]\n",
    "temp.groupby(\"CENSUS_R\").apply(lambda x: x / float(x.sum())).unstack().plot.bar(stacked = True)"
   ]
  },
  {
   "cell_type": "code",
   "execution_count": 34,
   "id": "48e814a4",
   "metadata": {},
   "outputs": [
    {
     "data": {
      "text/plain": [
       "<AxesSubplot:xlabel='CNTTDHH,CNTTDHH'>"
      ]
     },
     "execution_count": 34,
     "metadata": {},
     "output_type": "execute_result"
    },
    {
     "data": {
      "image/png": "[encoded data removed]",
      "text/plain": [
       "<Figure size 432x288 with 1 Axes>"
      ]
     },
     "metadata": {
      "needs_background": "light"
     },
     "output_type": "display_data"
    }
   ],
   "source": [
    "temp = vehicles_df.groupby([\"CNTTDHH\", \"VEHTYPE\"]).count()[\"HOUSEID\"]\n",
    "temp.groupby(\"CNTTDHH\").apply(lambda x: x / float(x.sum())).unstack().plot.bar(stacked = True)"
   ]
  },
  {
   "cell_type": "code",
   "execution_count": 41,
   "id": "053adb9c",
   "metadata": {},
   "outputs": [
    {
     "ename": "ValueError",
     "evalue": "Could not interpret value `TRVLCMIN` for parameter `y`",
     "output_type": "error",
     "traceback": [
      "\u001b[0;31m---------------------------------------------------------------------------\u001b[0m",
      "\u001b[0;31mValueError\u001b[0m                                Traceback (most recent call last)",
      "\u001b[0;32m/tmp/ipykernel_1177/801525086.py\u001b[0m in \u001b[0;36m<module>\u001b[0;34m\u001b[0m\n\u001b[1;32m      1\u001b[0m \u001b[0mplt\u001b[0m\u001b[0;34m.\u001b[0m\u001b[0mfigure\u001b[0m\u001b[0;34m(\u001b[0m\u001b[0mfigsize\u001b[0m\u001b[0;34m=\u001b[0m\u001b[0;34m(\u001b[0m\u001b[0;36m12\u001b[0m\u001b[0;34m,\u001b[0m\u001b[0;36m7\u001b[0m\u001b[0;34m)\u001b[0m\u001b[0;34m)\u001b[0m\u001b[0;34m\u001b[0m\u001b[0;34m\u001b[0m\u001b[0m\n\u001b[0;32m----> 2\u001b[0;31m \u001b[0msns\u001b[0m\u001b[0;34m.\u001b[0m\u001b[0mscatterplot\u001b[0m\u001b[0;34m(\u001b[0m\u001b[0mdata\u001b[0m\u001b[0;34m=\u001b[0m\u001b[0mvehicles\u001b[0m\u001b[0;34m,\u001b[0m \u001b[0mx\u001b[0m\u001b[0;34m=\u001b[0m\u001b[0;34m'VEHTYPE'\u001b[0m\u001b[0;34m,\u001b[0m \u001b[0my\u001b[0m\u001b[0;34m=\u001b[0m\u001b[0;34m'TRVLCMIN'\u001b[0m\u001b[0;34m,\u001b[0m \u001b[0mpalette\u001b[0m\u001b[0;34m=\u001b[0m\u001b[0;34m'deep'\u001b[0m\u001b[0;34m)\u001b[0m\u001b[0;34m\u001b[0m\u001b[0;34m\u001b[0m\u001b[0m\n\u001b[0m",
      "\u001b[0;32m/opt/conda/lib/python3.9/site-packages/seaborn/_decorators.py\u001b[0m in \u001b[0;36minner_f\u001b[0;34m(*args, **kwargs)\u001b[0m\n\u001b[1;32m     44\u001b[0m             )\n\u001b[1;32m     45\u001b[0m         \u001b[0mkwargs\u001b[0m\u001b[0;34m.\u001b[0m\u001b[0mupdate\u001b[0m\u001b[0;34m(\u001b[0m\u001b[0;34m{\u001b[0m\u001b[0mk\u001b[0m\u001b[0;34m:\u001b[0m \u001b[0marg\u001b[0m \u001b[0;32mfor\u001b[0m \u001b[0mk\u001b[0m\u001b[0;34m,\u001b[0m \u001b[0marg\u001b[0m \u001b[0;32min\u001b[0m \u001b[0mzip\u001b[0m\u001b[0;34m(\u001b[0m\u001b[0msig\u001b[0m\u001b[0;34m.\u001b[0m\u001b[0mparameters\u001b[0m\u001b[0;34m,\u001b[0m \u001b[0margs\u001b[0m\u001b[0;34m)\u001b[0m\u001b[0;34m}\u001b[0m\u001b[0;34m)\u001b[0m\u001b[0;34m\u001b[0m\u001b[0;34m\u001b[0m\u001b[0m\n\u001b[0;32m---> 46\u001b[0;31m         \u001b[0;32mreturn\u001b[0m \u001b[0mf\u001b[0m\u001b[0;34m(\u001b[0m\u001b[0;34m**\u001b[0m\u001b[0mkwargs\u001b[0m\u001b[0;34m)\u001b[0m\u001b[0;34m\u001b[0m\u001b[0;34m\u001b[0m\u001b[0m\n\u001b[0m\u001b[1;32m     47\u001b[0m     \u001b[0;32mreturn\u001b[0m \u001b[0minner_f\u001b[0m\u001b[0;34m\u001b[0m\u001b[0;34m\u001b[0m\u001b[0m\n\u001b[1;32m     48\u001b[0m \u001b[0;34m\u001b[0m\u001b[0m\n",
      "\u001b[0;32m/opt/conda/lib/python3.9/site-packages/seaborn/relational.py\u001b[0m in \u001b[0;36mscatterplot\u001b[0;34m(x, y, hue, style, size, data, palette, hue_order, hue_norm, sizes, size_order, size_norm, markers, style_order, x_bins, y_bins, units, estimator, ci, n_boot, alpha, x_jitter, y_jitter, legend, ax, **kwargs)\u001b[0m\n\u001b[1;32m    799\u001b[0m \u001b[0;34m\u001b[0m\u001b[0m\n\u001b[1;32m    800\u001b[0m     \u001b[0mvariables\u001b[0m \u001b[0;34m=\u001b[0m \u001b[0m_ScatterPlotter\u001b[0m\u001b[0;34m.\u001b[0m\u001b[0mget_semantics\u001b[0m\u001b[0;34m(\u001b[0m\u001b[0mlocals\u001b[0m\u001b[0;34m(\u001b[0m\u001b[0;34m)\u001b[0m\u001b[0;34m)\u001b[0m\u001b[0;34m\u001b[0m\u001b[0;34m\u001b[0m\u001b[0m\n\u001b[0;32m--> 801\u001b[0;31m     p = _ScatterPlotter(\n\u001b[0m\u001b[1;32m    802\u001b[0m         \u001b[0mdata\u001b[0m\u001b[0;34m=\u001b[0m\u001b[0mdata\u001b[0m\u001b[0;34m,\u001b[0m \u001b[0mvariables\u001b[0m\u001b[0;34m=\u001b[0m\u001b[0mvariables\u001b[0m\u001b[0;34m,\u001b[0m\u001b[0;34m\u001b[0m\u001b[0;34m\u001b[0m\u001b[0m\n\u001b[1;32m    803\u001b[0m         \u001b[0mx_bins\u001b[0m\u001b[0;34m=\u001b[0m\u001b[0mx_bins\u001b[0m\u001b[0;34m,\u001b[0m \u001b[0my_bins\u001b[0m\u001b[0;34m=\u001b[0m\u001b[0my_bins\u001b[0m\u001b[0;34m,\u001b[0m\u001b[0;34m\u001b[0m\u001b[0;34m\u001b[0m\u001b[0m\n",
      "\u001b[0;32m/opt/conda/lib/python3.9/site-packages/seaborn/relational.py\u001b[0m in \u001b[0;36m__init__\u001b[0;34m(self, data, variables, x_bins, y_bins, estimator, ci, n_boot, alpha, x_jitter, y_jitter, legend)\u001b[0m\n\u001b[1;32m    585\u001b[0m         )\n\u001b[1;32m    586\u001b[0m \u001b[0;34m\u001b[0m\u001b[0m\n\u001b[0;32m--> 587\u001b[0;31m         \u001b[0msuper\u001b[0m\u001b[0;34m(\u001b[0m\u001b[0;34m)\u001b[0m\u001b[0;34m.\u001b[0m\u001b[0m__init__\u001b[0m\u001b[0;34m(\u001b[0m\u001b[0mdata\u001b[0m\u001b[0;34m=\u001b[0m\u001b[0mdata\u001b[0m\u001b[0;34m,\u001b[0m \u001b[0mvariables\u001b[0m\u001b[0;34m=\u001b[0m\u001b[0mvariables\u001b[0m\u001b[0;34m)\u001b[0m\u001b[0;34m\u001b[0m\u001b[0;34m\u001b[0m\u001b[0m\n\u001b[0m\u001b[1;32m    588\u001b[0m \u001b[0;34m\u001b[0m\u001b[0m\n\u001b[1;32m    589\u001b[0m         \u001b[0mself\u001b[0m\u001b[0;34m.\u001b[0m\u001b[0malpha\u001b[0m \u001b[0;34m=\u001b[0m \u001b[0malpha\u001b[0m\u001b[0;34m\u001b[0m\u001b[0;34m\u001b[0m\u001b[0m\n",
      "\u001b[0;32m/opt/conda/lib/python3.9/site-packages/seaborn/_core.py\u001b[0m in \u001b[0;36m__init__\u001b[0;34m(self, data, variables)\u001b[0m\n\u001b[1;32m    602\u001b[0m     \u001b[0;32mdef\u001b[0m \u001b[0m__init__\u001b[0m\u001b[0;34m(\u001b[0m\u001b[0mself\u001b[0m\u001b[0;34m,\u001b[0m \u001b[0mdata\u001b[0m\u001b[0;34m=\u001b[0m\u001b[0;32mNone\u001b[0m\u001b[0;34m,\u001b[0m \u001b[0mvariables\u001b[0m\u001b[0;34m=\u001b[0m\u001b[0;34m{\u001b[0m\u001b[0;34m}\u001b[0m\u001b[0;34m)\u001b[0m\u001b[0;34m:\u001b[0m\u001b[0;34m\u001b[0m\u001b[0;34m\u001b[0m\u001b[0m\n\u001b[1;32m    603\u001b[0m \u001b[0;34m\u001b[0m\u001b[0m\n\u001b[0;32m--> 604\u001b[0;31m         \u001b[0mself\u001b[0m\u001b[0;34m.\u001b[0m\u001b[0massign_variables\u001b[0m\u001b[0;34m(\u001b[0m\u001b[0mdata\u001b[0m\u001b[0;34m,\u001b[0m \u001b[0mvariables\u001b[0m\u001b[0;34m)\u001b[0m\u001b[0;34m\u001b[0m\u001b[0;34m\u001b[0m\u001b[0m\n\u001b[0m\u001b[1;32m    605\u001b[0m \u001b[0;34m\u001b[0m\u001b[0m\n\u001b[1;32m    606\u001b[0m         \u001b[0;32mfor\u001b[0m \u001b[0mvar\u001b[0m\u001b[0;34m,\u001b[0m \u001b[0mcls\u001b[0m \u001b[0;32min\u001b[0m \u001b[0mself\u001b[0m\u001b[0;34m.\u001b[0m\u001b[0m_semantic_mappings\u001b[0m\u001b[0;34m.\u001b[0m\u001b[0mitems\u001b[0m\u001b[0;34m(\u001b[0m\u001b[0;34m)\u001b[0m\u001b[0;34m:\u001b[0m\u001b[0;34m\u001b[0m\u001b[0;34m\u001b[0m\u001b[0m\n",
      "\u001b[0;32m/opt/conda/lib/python3.9/site-packages/seaborn/_core.py\u001b[0m in \u001b[0;36massign_variables\u001b[0;34m(self, data, variables)\u001b[0m\n\u001b[1;32m    665\u001b[0m         \u001b[0;32melse\u001b[0m\u001b[0;34m:\u001b[0m\u001b[0;34m\u001b[0m\u001b[0;34m\u001b[0m\u001b[0m\n\u001b[1;32m    666\u001b[0m             \u001b[0mself\u001b[0m\u001b[0;34m.\u001b[0m\u001b[0minput_format\u001b[0m \u001b[0;34m=\u001b[0m \u001b[0;34m\"long\"\u001b[0m\u001b[0;34m\u001b[0m\u001b[0;34m\u001b[0m\u001b[0m\n\u001b[0;32m--> 667\u001b[0;31m             plot_data, variables = self._assign_variables_longform(\n\u001b[0m\u001b[1;32m    668\u001b[0m                 \u001b[0mdata\u001b[0m\u001b[0;34m,\u001b[0m \u001b[0;34m**\u001b[0m\u001b[0mvariables\u001b[0m\u001b[0;34m,\u001b[0m\u001b[0;34m\u001b[0m\u001b[0;34m\u001b[0m\u001b[0m\n\u001b[1;32m    669\u001b[0m             )\n",
      "\u001b[0;32m/opt/conda/lib/python3.9/site-packages/seaborn/_core.py\u001b[0m in \u001b[0;36m_assign_variables_longform\u001b[0;34m(self, data, **kwargs)\u001b[0m\n\u001b[1;32m    900\u001b[0m \u001b[0;34m\u001b[0m\u001b[0m\n\u001b[1;32m    901\u001b[0m                 \u001b[0merr\u001b[0m \u001b[0;34m=\u001b[0m \u001b[0;34mf\"Could not interpret value `{val}` for parameter `{key}`\"\u001b[0m\u001b[0;34m\u001b[0m\u001b[0;34m\u001b[0m\u001b[0m\n\u001b[0;32m--> 902\u001b[0;31m                 \u001b[0;32mraise\u001b[0m \u001b[0mValueError\u001b[0m\u001b[0;34m(\u001b[0m\u001b[0merr\u001b[0m\u001b[0;34m)\u001b[0m\u001b[0;34m\u001b[0m\u001b[0;34m\u001b[0m\u001b[0m\n\u001b[0m\u001b[1;32m    903\u001b[0m \u001b[0;34m\u001b[0m\u001b[0m\n\u001b[1;32m    904\u001b[0m             \u001b[0;32melse\u001b[0m\u001b[0;34m:\u001b[0m\u001b[0;34m\u001b[0m\u001b[0;34m\u001b[0m\u001b[0m\n",
      "\u001b[0;31mValueError\u001b[0m: Could not interpret value `TRVLCMIN` for parameter `y`"
     ]
    },
    {
     "data": {
      "text/plain": [
       "<Figure size 864x504 with 0 Axes>"
      ]
     },
     "metadata": {},
     "output_type": "display_data"
    }
   ],
   "source": [
    "plt.figure(figsize=(12,7))\n",
    "sns.scatterplot(data=vehicles, x='VEHTYPE', y='TRVLCMIN', palette='deep')"
   ]
  },
  {
   "cell_type": "code",
   "execution_count": null,
   "id": "980828c0",
   "metadata": {},
   "outputs": [],
   "source": [
    "nums = np.arange(1, 11).tolist()\n",
    "df = vehicles[vehicles['LIF_CYC'].isin(nums)]\n",
    "df['LIF_CYC'] = df['LIF_CYC'].replace({1: '1 Adult, 0 Child',\n",
    "                2: '2+ Adult, 0 Child',\n",
    "                3: '1 Adult, Youngest 0-5',\n",
    "                4: '2+ Adult, Youngest 0-5',\n",
    "                5: '1 Adult, Youngest 6-15',\n",
    "                6: '2+ Adult, Youngest 6-15',\n",
    "                7: '1 Adult, Youngest 16-21',\n",
    "                8: '2+ Adult, Youngest 16-21',\n",
    "                9: '1 Adult Retired, 0 Child',\n",
    "                10: '2+ Adult Retired, 0 Child'})\n",
    "sns.catplot(data=df, kind='count', x='LIF_CYC', aspect=4)"
   ]
  },
  {
   "cell_type": "markdown",
   "id": "f6e63a2d",
   "metadata": {},
   "source": [
    "LIF_CYC - Life Cycle classification for the household, derived by attributes pertaining to age, relationship, and work status."
   ]
  },
  {
   "cell_type": "code",
   "execution_count": null,
   "id": "34592962",
   "metadata": {},
   "outputs": [],
   "source": [
    "nums = [-9]\n",
    "df = vehicles[~vehicles['HTRESDN'].isin(nums)]\n",
    "sns.catplot(data=df, kind='count', x='HTRESDN', aspect=2)"
   ]
  },
  {
   "cell_type": "markdown",
   "id": "6c816904",
   "metadata": {},
   "source": [
    "HTRESDN - Category of housing units per square mile in the census tract of the household's home location <br>\n",
    "50=0-99 <br>\n",
    "300=100-499 <br>\n",
    "750=500-999 <br>\n",
    "1500=1,000-1,999 <br>\n",
    "3000=2,000-3,999 <br>\n",
    "7000=4,000-9,999 <br>\n",
    "17000=10,000-24,999 <br>\n",
    "30000=25,000-999,999"
   ]
  },
  {
   "cell_type": "code",
   "execution_count": null,
   "id": "543d2ad9",
   "metadata": {},
   "outputs": [],
   "source": [
    "nums = [-9]\n",
    "df = vehicles[~vehicles['HTEEMPDN'].isin(nums)]\n",
    "sns.catplot(data=df, kind='count', x='HTEEMPDN', aspect=2)"
   ]
  },
  {
   "cell_type": "markdown",
   "id": "9c4bd14a",
   "metadata": {},
   "source": [
    "HTEEMPDN - Category of workers per square mile in the census tract of the household's home location <br>\n",
    "25=0-49 <br>\n",
    "75=50-99 <br>\n",
    "150=100-249 <br>\n",
    "350=250-499 <br>\n",
    "750=500-999 <br>\n",
    "1500=1,000-1,999 <br>\n",
    "3000=2,000-3,999 <br>\n",
    "5000=4,000-999,999"
   ]
  },
  {
   "cell_type": "code",
   "execution_count": null,
   "id": "c2484117",
   "metadata": {},
   "outputs": [],
   "source": [
    "nums = [-9]\n",
    "df = vehicles[~vehicles['HTPPOPDN'].isin(nums)]\n",
    "sns.catplot(data=df, kind='count', x='HTPPOPDN', aspect=2)"
   ]
  },
  {
   "cell_type": "markdown",
   "id": "c9f25fad",
   "metadata": {},
   "source": [
    "HTPPOPDN - Category of population density (persons per square mile) in the census tract of the household's home location <br>\n",
    "50=0-99 <br>\n",
    "300=100-499 <br>\n",
    "750=500-999 <br>\n",
    "1500=1,000-1,999 <br>\n",
    "3000=2,000-3,999 <br>\n",
    "7000=4,000-9,999 <br>\n",
    "17000=10,000-24,999 <br>\n",
    "30000=25,000-999,999"
   ]
  },
  {
   "cell_type": "code",
   "execution_count": null,
   "id": "5fd05784",
   "metadata": {},
   "outputs": [],
   "source": [
    "nums = [-9, -8, -7]\n",
    "df = vehicles[~vehicles['HHFAMINC'].isin(nums)]\n",
    "sns.catplot(data=df, kind='count', x='HHFAMINC', aspect=2)"
   ]
  },
  {
   "cell_type": "markdown",
   "id": "45adca60",
   "metadata": {},
   "source": [
    "HHFAMINC - Household income\n",
    "01=Less than \\\\$10,000 <br>\n",
    "02=\\\\$10,000 to \\\\$14,999 <br>\n",
    "03=\\\\$15,000 to \\\\$24,999 <br>\n",
    "04=\\\\$25,000 to \\\\$34,999 <br>\n",
    "05=\\\\$35,000 to \\\\$49,999 <br>\n",
    "06=\\\\$50,000 to \\\\$74,999 <br>\n",
    "07=\\\\$75,000 to \\\\$99,999 <br>\n",
    "08=\\\\$100,000 to \\\\$124,999 <br>\n",
    "09=\\\\$125,000 to \\\\$149,999 <br>\n",
    "10=\\\\$150,000 to \\\\$199,999 <br>\n",
    "11=\\\\$200,000 or more"
   ]
  },
  {
   "cell_type": "code",
   "execution_count": null,
   "id": "1f5e5cf5",
   "metadata": {},
   "outputs": [],
   "source": [
    "nums = [-9, -8, -7]\n",
    "df = vehicles[~vehicles['HHSIZE'].isin(nums)]\n",
    "sns.catplot(data=df, kind='count', x='HHSIZE', aspect=2)"
   ]
  },
  {
   "cell_type": "code",
   "execution_count": null,
   "id": "b9d60833",
   "metadata": {},
   "outputs": [],
   "source": [
    "plt.figure(figsize=(12,7))\n",
    "sns.scatterplot(data=vehicles, x='VEHTYPE', y='CNTTDHH')"
   ]
  },
  {
   "cell_type": "markdown",
   "id": "053287c6",
   "metadata": {},
   "source": [
    "BESTMILE - Best estimate of annual miles."
   ]
  },
  {
   "cell_type": "code",
   "execution_count": null,
   "id": "a304b741",
   "metadata": {},
   "outputs": [],
   "source": [
    "hbhur = ['Town', 'Rural', 'Second City', 'Suburban', 'Urban']\n",
    "vehicles['HBHUR'] = vehicles['HBHUR'].replace({'T': 'Town',\n",
    "                                               'R': 'Rural',\n",
    "                                               'C': 'Second City',\n",
    "                                               'S': 'Suburban',\n",
    "                                               'U': 'Urban'})\n",
    "plt.figure(figsize=(12,7))\n",
    "sns.scatterplot(data=vehicles[vehicles['HBHUR'].isin(hbhur)], x='HBHUR', y='GSYRGAL').set_title('Annual Gas Consumption by Area Classification')"
   ]
  },
  {
   "cell_type": "code",
   "execution_count": null,
   "id": "22071c53",
   "metadata": {},
   "outputs": [],
   "source": [
    "plt.figure(figsize=(12,7))\n",
    "sns.scatterplot(data=vehicles[(vehicles['VEHYEAR'] >= 0) & (vehicles['FUELTYPE'].isin(fuel_types))], x='VEHYEAR', y='FEGEMPG', hue='FUELTYPE', palette='deep').set_title('Fuel Economy by Vehicle Year & Fuel Type')"
   ]
  },
  {
   "cell_type": "code",
   "execution_count": null,
   "id": "f0834865",
   "metadata": {},
   "outputs": [],
   "source": [
    "plt.figure(figsize=(15,7))\n",
    "sns.scatterplot(data=vehicles[(vehicles['OD_READ'] >= 0) & (vehicles['FUELTYPE'].isin(fuel_types))], x='OD_READ', y='FEGEMPG', hue='FUELTYPE', palette=\"deep\").set_title('Fuel Economy by Odomoter Reading & Fuel Type')"
   ]
  },
  {
   "cell_type": "code",
   "execution_count": null,
   "id": "75a84e92",
   "metadata": {},
   "outputs": [],
   "source": [
    "plt.figure(figsize=(12,7))\n",
    "sns.scatterplot(data=vehicles[(vehicles['VEHYEAR'] >= 0) & (vehicles['FUELTYPE'].isin(fuel_types))], x='VEHYEAR', y='GSTOTCST', hue='FUELTYPE', palette=\"deep\").set_title('Annual Fuel Cost by Vehicle Year & Fuel Type')"
   ]
  },
  {
   "cell_type": "code",
   "execution_count": null,
   "id": "2dafa463",
   "metadata": {},
   "outputs": [],
   "source": [
    "plt.figure(figsize=(12,7))\n",
    "sns.scatterplot(data=vehicles, x='HTRESDN', y='HTPPOPDN', hue='VEHTYPE', palette=\"deep\")"
   ]
  },
  {
   "cell_type": "code",
   "execution_count": null,
   "id": "38478f73",
   "metadata": {},
   "outputs": [],
   "source": []
  }
 ],
 "metadata": {
  "kernelspec": {
   "display_name": "Python 3 (ipykernel)",
   "language": "python",
   "name": "python3"
  },
  "language_info": {
   "codemirror_mode": {
    "name": "ipython",
    "version": 3
   },
   "file_extension": ".py",
   "mimetype": "text/x-python",
   "name": "python",
   "nbconvert_exporter": "python",
   "pygments_lexer": "ipython3",
   "version": "3.9.5"
  }
 },
 "nbformat": 4,
 "nbformat_minor": 5
}
