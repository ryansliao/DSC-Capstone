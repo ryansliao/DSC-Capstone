{
 "cells": [
  {
   "cell_type": "code",
   "execution_count": 1,
   "id": "bad91e8c",
   "metadata": {},
   "outputs": [],
   "source": [
    "import pandas as pd\n",
    "import numpy as np\n",
    "import matplotlib.pyplot as plt\n",
    "import seaborn as sns\n",
    "import geopandas as gpd\n",
    "import plotly.express as px\n",
    "sns.set_theme()"
   ]
  },
  {
   "cell_type": "code",
   "execution_count": 178,
   "id": "8d711d8d",
   "metadata": {},
   "outputs": [],
   "source": [
    "vehicle_df = pd.read_csv('/Users/emilychen/Downloads/csv/vehpub.csv')\n",
    "household_df = pd.read_csv('/Users/emilychen/Downloads/csv/hhpub.csv')"
   ]
  },
  {
   "cell_type": "code",
   "execution_count": 179,
   "id": "74bb1b55",
   "metadata": {},
   "outputs": [
    {
     "data": {
      "text/html": [
       "<div>\n",
       "<style scoped>\n",
       "    .dataframe tbody tr th:only-of-type {\n",
       "        vertical-align: middle;\n",
       "    }\n",
       "\n",
       "    .dataframe tbody tr th {\n",
       "        vertical-align: top;\n",
       "    }\n",
       "\n",
       "    .dataframe thead th {\n",
       "        text-align: right;\n",
       "    }\n",
       "</style>\n",
       "<table border=\"1\" class=\"dataframe\">\n",
       "  <thead>\n",
       "    <tr style=\"text-align: right;\">\n",
       "      <th></th>\n",
       "      <th>HOUSEID</th>\n",
       "      <th>VEHID</th>\n",
       "      <th>VEHYEAR</th>\n",
       "      <th>VEHAGE</th>\n",
       "      <th>MAKE</th>\n",
       "      <th>MODEL</th>\n",
       "      <th>FUELTYPE</th>\n",
       "      <th>VEHTYPE</th>\n",
       "      <th>WHOMAIN</th>\n",
       "      <th>OD_READ</th>\n",
       "      <th>...</th>\n",
       "      <th>HTEEMPDN</th>\n",
       "      <th>HBHTNRNT</th>\n",
       "      <th>HBPPOPDN</th>\n",
       "      <th>HBRESDN</th>\n",
       "      <th>GSYRGAL</th>\n",
       "      <th>GSTOTCST</th>\n",
       "      <th>FEGEMPG</th>\n",
       "      <th>FEGEMPGA</th>\n",
       "      <th>GSCOST</th>\n",
       "      <th>FEGEMPGF</th>\n",
       "    </tr>\n",
       "  </thead>\n",
       "  <tbody>\n",
       "    <tr>\n",
       "      <th>0</th>\n",
       "      <td>30000007</td>\n",
       "      <td>1</td>\n",
       "      <td>2007</td>\n",
       "      <td>10</td>\n",
       "      <td>49</td>\n",
       "      <td>49032</td>\n",
       "      <td>1</td>\n",
       "      <td>1</td>\n",
       "      <td>3</td>\n",
       "      <td>69000</td>\n",
       "      <td>...</td>\n",
       "      <td>750</td>\n",
       "      <td>20</td>\n",
       "      <td>750</td>\n",
       "      <td>300</td>\n",
       "      <td>487.064221</td>\n",
       "      <td>1126.457778</td>\n",
       "      <td>30</td>\n",
       "      <td>-9</td>\n",
       "      <td>2.31275</td>\n",
       "      <td>1</td>\n",
       "    </tr>\n",
       "    <tr>\n",
       "      <th>1</th>\n",
       "      <td>30000007</td>\n",
       "      <td>2</td>\n",
       "      <td>2004</td>\n",
       "      <td>13</td>\n",
       "      <td>49</td>\n",
       "      <td>49442</td>\n",
       "      <td>1</td>\n",
       "      <td>2</td>\n",
       "      <td>-8</td>\n",
       "      <td>164000</td>\n",
       "      <td>...</td>\n",
       "      <td>750</td>\n",
       "      <td>20</td>\n",
       "      <td>750</td>\n",
       "      <td>300</td>\n",
       "      <td>250.899523</td>\n",
       "      <td>580.267873</td>\n",
       "      <td>19</td>\n",
       "      <td>-9</td>\n",
       "      <td>2.31275</td>\n",
       "      <td>1</td>\n",
       "    </tr>\n",
       "    <tr>\n",
       "      <th>2</th>\n",
       "      <td>30000007</td>\n",
       "      <td>3</td>\n",
       "      <td>1998</td>\n",
       "      <td>19</td>\n",
       "      <td>19</td>\n",
       "      <td>19014</td>\n",
       "      <td>1</td>\n",
       "      <td>1</td>\n",
       "      <td>1</td>\n",
       "      <td>120000</td>\n",
       "      <td>...</td>\n",
       "      <td>750</td>\n",
       "      <td>20</td>\n",
       "      <td>750</td>\n",
       "      <td>300</td>\n",
       "      <td>444.462475</td>\n",
       "      <td>1027.930589</td>\n",
       "      <td>18</td>\n",
       "      <td>-9</td>\n",
       "      <td>2.31275</td>\n",
       "      <td>1</td>\n",
       "    </tr>\n",
       "    <tr>\n",
       "      <th>3</th>\n",
       "      <td>30000007</td>\n",
       "      <td>4</td>\n",
       "      <td>1997</td>\n",
       "      <td>20</td>\n",
       "      <td>19</td>\n",
       "      <td>19021</td>\n",
       "      <td>1</td>\n",
       "      <td>1</td>\n",
       "      <td>2</td>\n",
       "      <td>-88</td>\n",
       "      <td>...</td>\n",
       "      <td>750</td>\n",
       "      <td>20</td>\n",
       "      <td>750</td>\n",
       "      <td>300</td>\n",
       "      <td>40.329575</td>\n",
       "      <td>93.272224</td>\n",
       "      <td>18</td>\n",
       "      <td>-9</td>\n",
       "      <td>2.31275</td>\n",
       "      <td>1</td>\n",
       "    </tr>\n",
       "    <tr>\n",
       "      <th>4</th>\n",
       "      <td>30000007</td>\n",
       "      <td>5</td>\n",
       "      <td>1993</td>\n",
       "      <td>24</td>\n",
       "      <td>20</td>\n",
       "      <td>20481</td>\n",
       "      <td>1</td>\n",
       "      <td>4</td>\n",
       "      <td>2</td>\n",
       "      <td>300000</td>\n",
       "      <td>...</td>\n",
       "      <td>750</td>\n",
       "      <td>20</td>\n",
       "      <td>750</td>\n",
       "      <td>300</td>\n",
       "      <td>888.404197</td>\n",
       "      <td>2054.656806</td>\n",
       "      <td>14</td>\n",
       "      <td>-9</td>\n",
       "      <td>2.31275</td>\n",
       "      <td>1</td>\n",
       "    </tr>\n",
       "  </tbody>\n",
       "</table>\n",
       "<p>5 rows × 60 columns</p>\n",
       "</div>"
      ],
      "text/plain": [
       "    HOUSEID  VEHID  VEHYEAR  VEHAGE MAKE  MODEL  FUELTYPE  VEHTYPE  WHOMAIN  \\\n",
       "0  30000007      1     2007      10   49  49032         1        1        3   \n",
       "1  30000007      2     2004      13   49  49442         1        2       -8   \n",
       "2  30000007      3     1998      19   19  19014         1        1        1   \n",
       "3  30000007      4     1997      20   19  19021         1        1        2   \n",
       "4  30000007      5     1993      24   20  20481         1        4        2   \n",
       "\n",
       "   OD_READ  ...  HTEEMPDN  HBHTNRNT  HBPPOPDN  HBRESDN     GSYRGAL  \\\n",
       "0    69000  ...       750        20       750      300  487.064221   \n",
       "1   164000  ...       750        20       750      300  250.899523   \n",
       "2   120000  ...       750        20       750      300  444.462475   \n",
       "3      -88  ...       750        20       750      300   40.329575   \n",
       "4   300000  ...       750        20       750      300  888.404197   \n",
       "\n",
       "      GSTOTCST  FEGEMPG  FEGEMPGA   GSCOST  FEGEMPGF  \n",
       "0  1126.457778       30        -9  2.31275         1  \n",
       "1   580.267873       19        -9  2.31275         1  \n",
       "2  1027.930589       18        -9  2.31275         1  \n",
       "3    93.272224       18        -9  2.31275         1  \n",
       "4  2054.656806       14        -9  2.31275         1  \n",
       "\n",
       "[5 rows x 60 columns]"
      ]
     },
     "execution_count": 179,
     "metadata": {},
     "output_type": "execute_result"
    }
   ],
   "source": [
    "vehicle_df.head()"
   ]
  },
  {
   "cell_type": "code",
   "execution_count": 5,
   "id": "816a24bc",
   "metadata": {},
   "outputs": [
    {
     "data": {
      "text/html": [
       "<div>\n",
       "<style scoped>\n",
       "    .dataframe tbody tr th:only-of-type {\n",
       "        vertical-align: middle;\n",
       "    }\n",
       "\n",
       "    .dataframe tbody tr th {\n",
       "        vertical-align: top;\n",
       "    }\n",
       "\n",
       "    .dataframe thead th {\n",
       "        text-align: right;\n",
       "    }\n",
       "</style>\n",
       "<table border=\"1\" class=\"dataframe\">\n",
       "  <thead>\n",
       "    <tr style=\"text-align: right;\">\n",
       "      <th></th>\n",
       "      <th>HOUSEID</th>\n",
       "      <th>TRAVDAY</th>\n",
       "      <th>SAMPSTRAT</th>\n",
       "      <th>HOMEOWN</th>\n",
       "      <th>HHSIZE</th>\n",
       "      <th>HHVEHCNT</th>\n",
       "      <th>HHFAMINC</th>\n",
       "      <th>PC</th>\n",
       "      <th>SPHONE</th>\n",
       "      <th>TAB</th>\n",
       "      <th>...</th>\n",
       "      <th>SMPLSRCE</th>\n",
       "      <th>WTHHFIN</th>\n",
       "      <th>HBHUR</th>\n",
       "      <th>HTHTNRNT</th>\n",
       "      <th>HTPPOPDN</th>\n",
       "      <th>HTRESDN</th>\n",
       "      <th>HTEEMPDN</th>\n",
       "      <th>HBHTNRNT</th>\n",
       "      <th>HBPPOPDN</th>\n",
       "      <th>HBRESDN</th>\n",
       "    </tr>\n",
       "  </thead>\n",
       "  <tbody>\n",
       "    <tr>\n",
       "      <th>0</th>\n",
       "      <td>30000007</td>\n",
       "      <td>2</td>\n",
       "      <td>3</td>\n",
       "      <td>1</td>\n",
       "      <td>3</td>\n",
       "      <td>5</td>\n",
       "      <td>7</td>\n",
       "      <td>2</td>\n",
       "      <td>1</td>\n",
       "      <td>2</td>\n",
       "      <td>...</td>\n",
       "      <td>2</td>\n",
       "      <td>187.314320</td>\n",
       "      <td>T</td>\n",
       "      <td>50</td>\n",
       "      <td>1500</td>\n",
       "      <td>750</td>\n",
       "      <td>750</td>\n",
       "      <td>20</td>\n",
       "      <td>750</td>\n",
       "      <td>300</td>\n",
       "    </tr>\n",
       "    <tr>\n",
       "      <th>1</th>\n",
       "      <td>30000008</td>\n",
       "      <td>5</td>\n",
       "      <td>2</td>\n",
       "      <td>1</td>\n",
       "      <td>2</td>\n",
       "      <td>4</td>\n",
       "      <td>8</td>\n",
       "      <td>1</td>\n",
       "      <td>1</td>\n",
       "      <td>2</td>\n",
       "      <td>...</td>\n",
       "      <td>2</td>\n",
       "      <td>69.513032</td>\n",
       "      <td>R</td>\n",
       "      <td>5</td>\n",
       "      <td>300</td>\n",
       "      <td>300</td>\n",
       "      <td>150</td>\n",
       "      <td>5</td>\n",
       "      <td>300</td>\n",
       "      <td>300</td>\n",
       "    </tr>\n",
       "    <tr>\n",
       "      <th>2</th>\n",
       "      <td>30000012</td>\n",
       "      <td>5</td>\n",
       "      <td>3</td>\n",
       "      <td>1</td>\n",
       "      <td>1</td>\n",
       "      <td>2</td>\n",
       "      <td>10</td>\n",
       "      <td>1</td>\n",
       "      <td>1</td>\n",
       "      <td>3</td>\n",
       "      <td>...</td>\n",
       "      <td>2</td>\n",
       "      <td>79.419586</td>\n",
       "      <td>C</td>\n",
       "      <td>80</td>\n",
       "      <td>17000</td>\n",
       "      <td>17000</td>\n",
       "      <td>5000</td>\n",
       "      <td>60</td>\n",
       "      <td>17000</td>\n",
       "      <td>7000</td>\n",
       "    </tr>\n",
       "    <tr>\n",
       "      <th>3</th>\n",
       "      <td>30000019</td>\n",
       "      <td>5</td>\n",
       "      <td>3</td>\n",
       "      <td>1</td>\n",
       "      <td>2</td>\n",
       "      <td>2</td>\n",
       "      <td>3</td>\n",
       "      <td>1</td>\n",
       "      <td>5</td>\n",
       "      <td>5</td>\n",
       "      <td>...</td>\n",
       "      <td>2</td>\n",
       "      <td>279.143588</td>\n",
       "      <td>S</td>\n",
       "      <td>40</td>\n",
       "      <td>300</td>\n",
       "      <td>300</td>\n",
       "      <td>150</td>\n",
       "      <td>50</td>\n",
       "      <td>750</td>\n",
       "      <td>300</td>\n",
       "    </tr>\n",
       "    <tr>\n",
       "      <th>4</th>\n",
       "      <td>30000029</td>\n",
       "      <td>3</td>\n",
       "      <td>3</td>\n",
       "      <td>1</td>\n",
       "      <td>2</td>\n",
       "      <td>2</td>\n",
       "      <td>5</td>\n",
       "      <td>2</td>\n",
       "      <td>5</td>\n",
       "      <td>1</td>\n",
       "      <td>...</td>\n",
       "      <td>2</td>\n",
       "      <td>103.240304</td>\n",
       "      <td>S</td>\n",
       "      <td>40</td>\n",
       "      <td>1500</td>\n",
       "      <td>750</td>\n",
       "      <td>750</td>\n",
       "      <td>40</td>\n",
       "      <td>1500</td>\n",
       "      <td>750</td>\n",
       "    </tr>\n",
       "  </tbody>\n",
       "</table>\n",
       "<p>5 rows × 58 columns</p>\n",
       "</div>"
      ],
      "text/plain": [
       "    HOUSEID  TRAVDAY  SAMPSTRAT  HOMEOWN  HHSIZE  HHVEHCNT  HHFAMINC  PC  \\\n",
       "0  30000007        2          3        1       3         5         7   2   \n",
       "1  30000008        5          2        1       2         4         8   1   \n",
       "2  30000012        5          3        1       1         2        10   1   \n",
       "3  30000019        5          3        1       2         2         3   1   \n",
       "4  30000029        3          3        1       2         2         5   2   \n",
       "\n",
       "   SPHONE  TAB  ...  SMPLSRCE     WTHHFIN  HBHUR  HTHTNRNT  HTPPOPDN  HTRESDN  \\\n",
       "0       1    2  ...         2  187.314320      T        50      1500      750   \n",
       "1       1    2  ...         2   69.513032      R         5       300      300   \n",
       "2       1    3  ...         2   79.419586      C        80     17000    17000   \n",
       "3       5    5  ...         2  279.143588      S        40       300      300   \n",
       "4       5    1  ...         2  103.240304      S        40      1500      750   \n",
       "\n",
       "   HTEEMPDN  HBHTNRNT  HBPPOPDN  HBRESDN  \n",
       "0       750        20       750      300  \n",
       "1       150         5       300      300  \n",
       "2      5000        60     17000     7000  \n",
       "3       150        50       750      300  \n",
       "4       750        40      1500      750  \n",
       "\n",
       "[5 rows x 58 columns]"
      ]
     },
     "execution_count": 5,
     "metadata": {},
     "output_type": "execute_result"
    }
   ],
   "source": [
    "household_df.head()"
   ]
  },
  {
   "cell_type": "code",
   "execution_count": 6,
   "id": "2433de93",
   "metadata": {},
   "outputs": [
    {
     "name": "stdout",
     "output_type": "stream",
     "text": [
      "(129696, 58)\n",
      "(256115, 60)\n"
     ]
    }
   ],
   "source": [
    "print(household_df.shape)\n",
    "print(vehicle_df.shape)"
   ]
  },
  {
   "cell_type": "markdown",
   "id": "cdb66b14",
   "metadata": {},
   "source": [
    "## Missing Values"
   ]
  },
  {
   "cell_type": "code",
   "execution_count": 7,
   "id": "613eb4a2",
   "metadata": {},
   "outputs": [
    {
     "data": {
      "text/plain": [
       "HOUSEID      0\n",
       "VEHID        0\n",
       "VEHYEAR      0\n",
       "VEHAGE       0\n",
       "MAKE         0\n",
       "MODEL        0\n",
       "FUELTYPE     0\n",
       "VEHTYPE      0\n",
       "WHOMAIN      0\n",
       "OD_READ      0\n",
       "HFUEL        0\n",
       "VEHOWNED     0\n",
       "VEHOWNMO     0\n",
       "ANNMILES     0\n",
       "HYBRID       0\n",
       "PERSONID     0\n",
       "TRAVDAY      0\n",
       "HOMEOWN      0\n",
       "HHSIZE       0\n",
       "HHVEHCNT     0\n",
       "HHFAMINC     0\n",
       "DRVRCNT      0\n",
       "HHSTATE      0\n",
       "HHSTFIPS     0\n",
       "NUMADLT      0\n",
       "WRKCOUNT     0\n",
       "TDAYDATE     0\n",
       "LIF_CYC      0\n",
       "MSACAT       0\n",
       "MSASIZE      0\n",
       "RAIL         0\n",
       "URBAN        0\n",
       "URBANSIZE    0\n",
       "URBRUR       0\n",
       "CENSUS_D     0\n",
       "CENSUS_R     0\n",
       "CDIVMSAR     0\n",
       "HH_RACE      0\n",
       "HH_HISP      0\n",
       "HH_CBSA      0\n",
       "SMPLSRCE     0\n",
       "WTHHFIN      0\n",
       "BESTMILE     0\n",
       "BEST_FLG     0\n",
       "BEST_EDT     0\n",
       "BEST_OUT     0\n",
       "HBHUR        0\n",
       "HTHTNRNT     0\n",
       "HTPPOPDN     0\n",
       "HTRESDN      0\n",
       "HTEEMPDN     0\n",
       "HBHTNRNT     0\n",
       "HBPPOPDN     0\n",
       "HBRESDN      0\n",
       "GSYRGAL      0\n",
       "GSTOTCST     0\n",
       "FEGEMPG      0\n",
       "FEGEMPGA     0\n",
       "GSCOST       0\n",
       "FEGEMPGF     0\n",
       "dtype: int64"
      ]
     },
     "execution_count": 7,
     "metadata": {},
     "output_type": "execute_result"
    }
   ],
   "source": [
    "vehicle_df.isnull().sum()"
   ]
  },
  {
   "cell_type": "code",
   "execution_count": 8,
   "id": "42adaa98",
   "metadata": {},
   "outputs": [
    {
     "data": {
      "text/plain": [
       "HOUSEID       0\n",
       "TRAVDAY       0\n",
       "SAMPSTRAT     0\n",
       "HOMEOWN       0\n",
       "HHSIZE        0\n",
       "HHVEHCNT      0\n",
       "HHFAMINC      0\n",
       "PC            0\n",
       "SPHONE        0\n",
       "TAB           0\n",
       "WALK          0\n",
       "BIKE          0\n",
       "CAR           0\n",
       "TAXI          0\n",
       "BUS           0\n",
       "TRAIN         0\n",
       "PARA          0\n",
       "PRICE         0\n",
       "PLACE         0\n",
       "WALK2SAVE     0\n",
       "BIKE2SAVE     0\n",
       "PTRANS        0\n",
       "HHRELATD      0\n",
       "DRVRCNT       0\n",
       "CNTTDHH       0\n",
       "HHSTATE       0\n",
       "HHSTFIPS      0\n",
       "NUMADLT       0\n",
       "YOUNGCHILD    0\n",
       "WRKCOUNT      0\n",
       "TDAYDATE      0\n",
       "HHRESP        0\n",
       "LIF_CYC       0\n",
       "MSACAT        0\n",
       "MSASIZE       0\n",
       "RAIL          0\n",
       "URBAN         0\n",
       "URBANSIZE     0\n",
       "URBRUR        0\n",
       "SCRESP        0\n",
       "CENSUS_D      0\n",
       "CENSUS_R      0\n",
       "CDIVMSAR      0\n",
       "HH_RACE       0\n",
       "HH_HISP       0\n",
       "HH_CBSA       0\n",
       "RESP_CNT      0\n",
       "WEBUSE17      0\n",
       "SMPLSRCE      0\n",
       "WTHHFIN       0\n",
       "HBHUR         0\n",
       "HTHTNRNT      0\n",
       "HTPPOPDN      0\n",
       "HTRESDN       0\n",
       "HTEEMPDN      0\n",
       "HBHTNRNT      0\n",
       "HBPPOPDN      0\n",
       "HBRESDN       0\n",
       "dtype: int64"
      ]
     },
     "execution_count": 8,
     "metadata": {},
     "output_type": "execute_result"
    }
   ],
   "source": [
    "household_df.isnull().sum()"
   ]
  },
  {
   "cell_type": "markdown",
   "id": "e5b52298",
   "metadata": {},
   "source": [
    "### Variables of Interest\n",
    "BESTMILE - Best estimate of annual miles\n",
    "\n",
    "LIF_CYC - Life Cycle classification for the household, derived by attributes pertaining to age, relationship, and work status.\n",
    "\n",
    "HTRESDN - Category of housing units per square mile in the census tract of the household's home location\n",
    "\n",
    "HTEEMPDN - Category of workers per square mile in the census tract of the household's home location\n",
    "\n",
    "HTPPOPDN - Category of population density (persons per square mile) in the census tract of the household's home location\n",
    "\n",
    "HBRESDN - Category of housing units per square mile in the census block of the household's home location\n",
    "\n",
    "HBEEMPDN - Category of workers per square mile in the census block of the household's home location\n",
    "\n",
    "HBPPOPDN - Category of population density (persons per square mile) in the census block of the household's home location\n",
    "\n",
    "HHFAMINC - Household income\n",
    "\n",
    "HHSIZE - Household size"
   ]
  },
  {
   "cell_type": "markdown",
   "id": "233f8e47",
   "metadata": {},
   "source": [
    "## Univariate Analysis"
   ]
  },
  {
   "cell_type": "code",
   "execution_count": 9,
   "id": "042cd4f1",
   "metadata": {},
   "outputs": [
    {
     "data": {
      "text/html": [
       "<div>\n",
       "<style scoped>\n",
       "    .dataframe tbody tr th:only-of-type {\n",
       "        vertical-align: middle;\n",
       "    }\n",
       "\n",
       "    .dataframe tbody tr th {\n",
       "        vertical-align: top;\n",
       "    }\n",
       "\n",
       "    .dataframe thead th {\n",
       "        text-align: right;\n",
       "    }\n",
       "</style>\n",
       "<table border=\"1\" class=\"dataframe\">\n",
       "  <thead>\n",
       "    <tr style=\"text-align: right;\">\n",
       "      <th></th>\n",
       "      <th>HOUSEID</th>\n",
       "      <th>VEHID</th>\n",
       "      <th>VEHYEAR</th>\n",
       "      <th>VEHAGE</th>\n",
       "      <th>FUELTYPE</th>\n",
       "      <th>VEHTYPE</th>\n",
       "      <th>WHOMAIN</th>\n",
       "      <th>OD_READ</th>\n",
       "      <th>HFUEL</th>\n",
       "      <th>VEHOWNED</th>\n",
       "      <th>...</th>\n",
       "      <th>HTEEMPDN</th>\n",
       "      <th>HBHTNRNT</th>\n",
       "      <th>HBPPOPDN</th>\n",
       "      <th>HBRESDN</th>\n",
       "      <th>GSYRGAL</th>\n",
       "      <th>GSTOTCST</th>\n",
       "      <th>FEGEMPG</th>\n",
       "      <th>FEGEMPGA</th>\n",
       "      <th>GSCOST</th>\n",
       "      <th>FEGEMPGF</th>\n",
       "    </tr>\n",
       "  </thead>\n",
       "  <tbody>\n",
       "    <tr>\n",
       "      <th>count</th>\n",
       "      <td>2.561150e+05</td>\n",
       "      <td>256115.000000</td>\n",
       "      <td>256115.000000</td>\n",
       "      <td>256115.000000</td>\n",
       "      <td>256115.000000</td>\n",
       "      <td>256115.000000</td>\n",
       "      <td>256115.000000</td>\n",
       "      <td>2.561150e+05</td>\n",
       "      <td>256115.000000</td>\n",
       "      <td>256115.000000</td>\n",
       "      <td>...</td>\n",
       "      <td>256115.000000</td>\n",
       "      <td>256115.000000</td>\n",
       "      <td>256115.000000</td>\n",
       "      <td>256115.000000</td>\n",
       "      <td>256115.000000</td>\n",
       "      <td>256115.000000</td>\n",
       "      <td>256115.000000</td>\n",
       "      <td>256115.000000</td>\n",
       "      <td>256115.000000</td>\n",
       "      <td>256115.000000</td>\n",
       "    </tr>\n",
       "    <tr>\n",
       "      <th>mean</th>\n",
       "      <td>3.505186e+07</td>\n",
       "      <td>1.839627</td>\n",
       "      <td>1993.019519</td>\n",
       "      <td>10.356992</td>\n",
       "      <td>1.140671</td>\n",
       "      <td>2.644574</td>\n",
       "      <td>3.477297</td>\n",
       "      <td>7.469966e+04</td>\n",
       "      <td>-0.829288</td>\n",
       "      <td>1.102267</td>\n",
       "      <td>...</td>\n",
       "      <td>1196.739605</td>\n",
       "      <td>23.771388</td>\n",
       "      <td>3354.980044</td>\n",
       "      <td>1504.728399</td>\n",
       "      <td>508.567328</td>\n",
       "      <td>1220.622605</td>\n",
       "      <td>22.680276</td>\n",
       "      <td>-8.808851</td>\n",
       "      <td>2.153494</td>\n",
       "      <td>1.179458</td>\n",
       "    </tr>\n",
       "    <tr>\n",
       "      <th>std</th>\n",
       "      <td>5.054880e+06</td>\n",
       "      <td>1.098090</td>\n",
       "      <td>164.613401</td>\n",
       "      <td>8.187607</td>\n",
       "      <td>2.673152</td>\n",
       "      <td>5.606761</td>\n",
       "      <td>13.803154</td>\n",
       "      <td>7.252014e+04</td>\n",
       "      <td>2.573373</td>\n",
       "      <td>0.698290</td>\n",
       "      <td>...</td>\n",
       "      <td>1412.887347</td>\n",
       "      <td>20.435021</td>\n",
       "      <td>4666.319156</td>\n",
       "      <td>2679.859002</td>\n",
       "      <td>583.308377</td>\n",
       "      <td>1398.322704</td>\n",
       "      <td>8.879565</td>\n",
       "      <td>4.437272</td>\n",
       "      <td>1.747156</td>\n",
       "      <td>0.531909</td>\n",
       "    </tr>\n",
       "    <tr>\n",
       "      <th>min</th>\n",
       "      <td>3.000001e+07</td>\n",
       "      <td>1.000000</td>\n",
       "      <td>-8.000000</td>\n",
       "      <td>-8.000000</td>\n",
       "      <td>-8.000000</td>\n",
       "      <td>-8.000000</td>\n",
       "      <td>-8.000000</td>\n",
       "      <td>-8.800000e+01</td>\n",
       "      <td>-9.000000</td>\n",
       "      <td>-9.000000</td>\n",
       "      <td>...</td>\n",
       "      <td>-9.000000</td>\n",
       "      <td>-9.000000</td>\n",
       "      <td>-9.000000</td>\n",
       "      <td>-9.000000</td>\n",
       "      <td>-9.000000</td>\n",
       "      <td>-9.000000</td>\n",
       "      <td>6.000000</td>\n",
       "      <td>-9.000000</td>\n",
       "      <td>-9.000000</td>\n",
       "      <td>1.000000</td>\n",
       "    </tr>\n",
       "    <tr>\n",
       "      <th>25%</th>\n",
       "      <td>3.026204e+07</td>\n",
       "      <td>1.000000</td>\n",
       "      <td>2003.000000</td>\n",
       "      <td>4.000000</td>\n",
       "      <td>1.000000</td>\n",
       "      <td>1.000000</td>\n",
       "      <td>1.000000</td>\n",
       "      <td>1.251450e+04</td>\n",
       "      <td>-1.000000</td>\n",
       "      <td>1.000000</td>\n",
       "      <td>...</td>\n",
       "      <td>75.000000</td>\n",
       "      <td>5.000000</td>\n",
       "      <td>300.000000</td>\n",
       "      <td>300.000000</td>\n",
       "      <td>196.485954</td>\n",
       "      <td>472.697102</td>\n",
       "      <td>18.000000</td>\n",
       "      <td>-9.000000</td>\n",
       "      <td>2.266500</td>\n",
       "      <td>1.000000</td>\n",
       "    </tr>\n",
       "    <tr>\n",
       "      <th>50%</th>\n",
       "      <td>3.052724e+07</td>\n",
       "      <td>2.000000</td>\n",
       "      <td>2008.000000</td>\n",
       "      <td>9.000000</td>\n",
       "      <td>1.000000</td>\n",
       "      <td>2.000000</td>\n",
       "      <td>1.000000</td>\n",
       "      <td>5.959700e+04</td>\n",
       "      <td>-1.000000</td>\n",
       "      <td>1.000000</td>\n",
       "      <td>...</td>\n",
       "      <td>750.000000</td>\n",
       "      <td>20.000000</td>\n",
       "      <td>1500.000000</td>\n",
       "      <td>750.000000</td>\n",
       "      <td>396.186947</td>\n",
       "      <td>950.206434</td>\n",
       "      <td>21.000000</td>\n",
       "      <td>-9.000000</td>\n",
       "      <td>2.312750</td>\n",
       "      <td>1.000000</td>\n",
       "    </tr>\n",
       "    <tr>\n",
       "      <th>75%</th>\n",
       "      <td>4.037127e+07</td>\n",
       "      <td>2.000000</td>\n",
       "      <td>2013.000000</td>\n",
       "      <td>14.000000</td>\n",
       "      <td>1.000000</td>\n",
       "      <td>3.000000</td>\n",
       "      <td>2.000000</td>\n",
       "      <td>1.181775e+05</td>\n",
       "      <td>-1.000000</td>\n",
       "      <td>1.000000</td>\n",
       "      <td>...</td>\n",
       "      <td>1500.000000</td>\n",
       "      <td>30.000000</td>\n",
       "      <td>7000.000000</td>\n",
       "      <td>1500.000000</td>\n",
       "      <td>662.736377</td>\n",
       "      <td>1587.311092</td>\n",
       "      <td>25.000000</td>\n",
       "      <td>-9.000000</td>\n",
       "      <td>2.465333</td>\n",
       "      <td>1.000000</td>\n",
       "    </tr>\n",
       "    <tr>\n",
       "      <th>max</th>\n",
       "      <td>4.079430e+07</td>\n",
       "      <td>12.000000</td>\n",
       "      <td>2017.000000</td>\n",
       "      <td>40.000000</td>\n",
       "      <td>97.000000</td>\n",
       "      <td>97.000000</td>\n",
       "      <td>97.000000</td>\n",
       "      <td>4.000000e+06</td>\n",
       "      <td>97.000000</td>\n",
       "      <td>2.000000</td>\n",
       "      <td>...</td>\n",
       "      <td>5000.000000</td>\n",
       "      <td>95.000000</td>\n",
       "      <td>30000.000000</td>\n",
       "      <td>30000.000000</td>\n",
       "      <td>33333.333333</td>\n",
       "      <td>78897.222222</td>\n",
       "      <td>124.000000</td>\n",
       "      <td>133.000000</td>\n",
       "      <td>9.858750</td>\n",
       "      <td>3.000000</td>\n",
       "    </tr>\n",
       "  </tbody>\n",
       "</table>\n",
       "<p>8 rows × 55 columns</p>\n",
       "</div>"
      ],
      "text/plain": [
       "            HOUSEID          VEHID        VEHYEAR         VEHAGE  \\\n",
       "count  2.561150e+05  256115.000000  256115.000000  256115.000000   \n",
       "mean   3.505186e+07       1.839627    1993.019519      10.356992   \n",
       "std    5.054880e+06       1.098090     164.613401       8.187607   \n",
       "min    3.000001e+07       1.000000      -8.000000      -8.000000   \n",
       "25%    3.026204e+07       1.000000    2003.000000       4.000000   \n",
       "50%    3.052724e+07       2.000000    2008.000000       9.000000   \n",
       "75%    4.037127e+07       2.000000    2013.000000      14.000000   \n",
       "max    4.079430e+07      12.000000    2017.000000      40.000000   \n",
       "\n",
       "            FUELTYPE        VEHTYPE        WHOMAIN       OD_READ  \\\n",
       "count  256115.000000  256115.000000  256115.000000  2.561150e+05   \n",
       "mean        1.140671       2.644574       3.477297  7.469966e+04   \n",
       "std         2.673152       5.606761      13.803154  7.252014e+04   \n",
       "min        -8.000000      -8.000000      -8.000000 -8.800000e+01   \n",
       "25%         1.000000       1.000000       1.000000  1.251450e+04   \n",
       "50%         1.000000       2.000000       1.000000  5.959700e+04   \n",
       "75%         1.000000       3.000000       2.000000  1.181775e+05   \n",
       "max        97.000000      97.000000      97.000000  4.000000e+06   \n",
       "\n",
       "               HFUEL       VEHOWNED  ...       HTEEMPDN       HBHTNRNT  \\\n",
       "count  256115.000000  256115.000000  ...  256115.000000  256115.000000   \n",
       "mean       -0.829288       1.102267  ...    1196.739605      23.771388   \n",
       "std         2.573373       0.698290  ...    1412.887347      20.435021   \n",
       "min        -9.000000      -9.000000  ...      -9.000000      -9.000000   \n",
       "25%        -1.000000       1.000000  ...      75.000000       5.000000   \n",
       "50%        -1.000000       1.000000  ...     750.000000      20.000000   \n",
       "75%        -1.000000       1.000000  ...    1500.000000      30.000000   \n",
       "max        97.000000       2.000000  ...    5000.000000      95.000000   \n",
       "\n",
       "            HBPPOPDN        HBRESDN        GSYRGAL       GSTOTCST  \\\n",
       "count  256115.000000  256115.000000  256115.000000  256115.000000   \n",
       "mean     3354.980044    1504.728399     508.567328    1220.622605   \n",
       "std      4666.319156    2679.859002     583.308377    1398.322704   \n",
       "min        -9.000000      -9.000000      -9.000000      -9.000000   \n",
       "25%       300.000000     300.000000     196.485954     472.697102   \n",
       "50%      1500.000000     750.000000     396.186947     950.206434   \n",
       "75%      7000.000000    1500.000000     662.736377    1587.311092   \n",
       "max     30000.000000   30000.000000   33333.333333   78897.222222   \n",
       "\n",
       "             FEGEMPG       FEGEMPGA         GSCOST       FEGEMPGF  \n",
       "count  256115.000000  256115.000000  256115.000000  256115.000000  \n",
       "mean       22.680276      -8.808851       2.153494       1.179458  \n",
       "std         8.879565       4.437272       1.747156       0.531909  \n",
       "min         6.000000      -9.000000      -9.000000       1.000000  \n",
       "25%        18.000000      -9.000000       2.266500       1.000000  \n",
       "50%        21.000000      -9.000000       2.312750       1.000000  \n",
       "75%        25.000000      -9.000000       2.465333       1.000000  \n",
       "max       124.000000     133.000000       9.858750       3.000000  \n",
       "\n",
       "[8 rows x 55 columns]"
      ]
     },
     "execution_count": 9,
     "metadata": {},
     "output_type": "execute_result"
    }
   ],
   "source": [
    "vehicle_df.describe()"
   ]
  },
  {
   "cell_type": "markdown",
   "id": "1621a0de",
   "metadata": {},
   "source": [
    "What are the most common household income brackets of respondents?"
   ]
  },
  {
   "cell_type": "code",
   "execution_count": 68,
   "id": "f936e5af",
   "metadata": {},
   "outputs": [
    {
     "data": {
      "text/plain": [
       "Text(0.5, 1.0, 'Most Common Household Annual Incomes')"
      ]
     },
     "execution_count": 68,
     "metadata": {},
     "output_type": "execute_result"
    },
    {
     "data": {
      "image/png": "[encoded data removed]",
      "text/plain": [
       "<Figure size 432x288 with 1 Axes>"
      ]
     },
     "metadata": {},
     "output_type": "display_data"
    }
   ],
   "source": [
    "income_dict = {1: '<10000', 2: '10000-14999',\n",
    "    3: '15000-24999', 4: '25000-34999',\n",
    "    5: '35000-49999', 6: '50000-74999',\n",
    "    7: '75000-99999', 8: '100000-124999',\n",
    "    9: '125000-149999', 10: '150000-199999',\n",
    "    11: '200000+'\n",
    "}\n",
    "vehicle_count = vehicle_df[vehicle_df['HHFAMINC']>0]['HHFAMINC'].replace(income_dict).value_counts().reset_index()\n",
    "sns.barplot(data = vehicle_count, x = 'count', y = 'HHFAMINC')\n",
    "plt.title('Most Common Household Annual Incomes')"
   ]
  },
  {
   "cell_type": "markdown",
   "id": "0f3366a3",
   "metadata": {},
   "source": [
    "What are the most common household sizes?"
   ]
  },
  {
   "cell_type": "code",
   "execution_count": 69,
   "id": "13832246",
   "metadata": {},
   "outputs": [
    {
     "data": {
      "text/plain": [
       "Text(0.5, 1.0, 'Most Common Household Sizes')"
      ]
     },
     "execution_count": 69,
     "metadata": {},
     "output_type": "execute_result"
    },
    {
     "data": {
      "image/png": "[encoded data removed]",
      "text/plain": [
       "<Figure size 432x288 with 1 Axes>"
      ]
     },
     "metadata": {},
     "output_type": "display_data"
    }
   ],
   "source": [
    "hh_size_count = vehicle_df['HHSIZE'].value_counts().reset_index()\n",
    "sns.barplot(data = hh_size_count, x = 'HHSIZE', y = 'count')\n",
    "plt.title('Most Common Household Sizes')"
   ]
  },
  {
   "cell_type": "markdown",
   "id": "65ad1c49",
   "metadata": {},
   "source": [
    "What is the distribution of estimate annual miles?"
   ]
  },
  {
   "cell_type": "code",
   "execution_count": 198,
   "id": "ab17afa8",
   "metadata": {},
   "outputs": [
    {
     "data": {
      "text/plain": [
       "count    252092.000000\n",
       "mean      10554.333263\n",
       "std       10879.414314\n",
       "min           0.000000\n",
       "25%        4418.714808\n",
       "50%        8569.920026\n",
       "75%       13853.627398\n",
       "max      200000.000000\n",
       "Name: BESTMILE, dtype: float64"
      ]
     },
     "execution_count": 198,
     "metadata": {},
     "output_type": "execute_result"
    }
   ],
   "source": [
    "filtered_miles = vehicle_df[vehicle_df['BESTMILE'] >= 0]\n",
    "filtered_miles['BESTMILE'].describe()"
   ]
  },
  {
   "cell_type": "code",
   "execution_count": 196,
   "id": "d56298e8",
   "metadata": {},
   "outputs": [
    {
     "data": {
      "text/plain": [
       "Text(0.5, 1.0, 'Distribution of Estimated Annual Miles')"
      ]
     },
     "execution_count": 196,
     "metadata": {},
     "output_type": "execute_result"
    },
    {
     "data": {
      "image/png": "[encoded data removed]",
      "text/plain": [
       "<Figure size 432x288 with 1 Axes>"
      ]
     },
     "metadata": {},
     "output_type": "display_data"
    }
   ],
   "source": [
    "sns.histplot(vehicle_df['BESTMILE'], bins = 30, binrange=(0,100000))\n",
    "plt.title('Distribution of Estimated Annual Miles')"
   ]
  },
  {
   "cell_type": "code",
   "execution_count": 78,
   "id": "7fc236b3",
   "metadata": {},
   "outputs": [
    {
     "data": {
      "text/plain": [
       "Text(0.5, 1.0, 'Category of Workers per Square Mile in Household Location')"
      ]
     },
     "execution_count": 78,
     "metadata": {},
     "output_type": "execute_result"
    },
    {
     "data": {
      "image/png": "[encoded data removed]",
      "text/plain": [
       "<Figure size 432x288 with 1 Axes>"
      ]
     },
     "metadata": {},
     "output_type": "display_data"
    }
   ],
   "source": [
    "num_workers = vehicle_df['HTEEMPDN'].value_counts().reset_index()\n",
    "sns.barplot(data = num_workers, x = 'HTEEMPDN', y = 'count')\n",
    "plt.title('Category of Workers per Square Mile in Household Location')"
   ]
  },
  {
   "cell_type": "code",
   "execution_count": 79,
   "id": "1cb02ce6",
   "metadata": {},
   "outputs": [
    {
     "data": {
      "text/plain": [
       "Text(0.5, 1.0, 'Category of Residents per Square Mile in Household Location')"
      ]
     },
     "execution_count": 79,
     "metadata": {},
     "output_type": "execute_result"
    },
    {
     "data": {
      "image/png": "[encoded data removed]",
      "text/plain": [
       "<Figure size 432x288 with 1 Axes>"
      ]
     },
     "metadata": {},
     "output_type": "display_data"
    }
   ],
   "source": [
    "num_people = vehicle_df['HTPPOPDN'].value_counts().reset_index()\n",
    "sns.barplot(data = num_people, x = 'HTPPOPDN', y = 'count')\n",
    "plt.title('Category of Residents per Square Mile in Household Location')"
   ]
  },
  {
   "cell_type": "code",
   "execution_count": 80,
   "id": "7e97ba46",
   "metadata": {},
   "outputs": [
    {
     "data": {
      "text/plain": [
       "Text(0.5, 1.0, 'Category of Housing Units per Square Mile in Census Tract of HH Location')"
      ]
     },
     "execution_count": 80,
     "metadata": {},
     "output_type": "execute_result"
    },
    {
     "data": {
      "image/png": "[encoded data removed]",
      "text/plain": [
       "<Figure size 432x288 with 1 Axes>"
      ]
     },
     "metadata": {},
     "output_type": "display_data"
    }
   ],
   "source": [
    "num_tract = vehicle_df['HTRESDN'].value_counts().reset_index()\n",
    "sns.barplot(data = num_tract, x = 'HTRESDN', y = 'count')\n",
    "plt.title('Category of Housing Units per Square Mile in Census Tract of HH Location')"
   ]
  },
  {
   "cell_type": "markdown",
   "id": "df192d47",
   "metadata": {},
   "source": [
    "## Bivariate Analysis"
   ]
  },
  {
   "cell_type": "markdown",
   "id": "2a37774b",
   "metadata": {},
   "source": [
    "Does household income have a correlation with vehicle age? Do families with higher incomes purchase/drive newer cars?"
   ]
  },
  {
   "cell_type": "code",
   "execution_count": 186,
   "id": "41256db1",
   "metadata": {},
   "outputs": [
    {
     "data": {
      "text/plain": [
       "Text(0.5, 1.0, 'Household Income versus Vehicle Age')"
      ]
     },
     "execution_count": 186,
     "metadata": {},
     "output_type": "execute_result"
    },
    {
     "data": {
      "image/png": "[encoded data removed]",
      "text/plain": [
       "<Figure size 432x288 with 1 Axes>"
      ]
     },
     "metadata": {},
     "output_type": "display_data"
    }
   ],
   "source": [
    "filtered = vehicle_df[(vehicle_df['VEHAGE'] > 0) & (vehicle_df['HHFAMINC'] > 0)]\n",
    "sns.boxplot(data = filtered[['VEHAGE', 'HHFAMINC']], x= 'HHFAMINC', y = 'VEHAGE')\n",
    "plt.title('Household Income versus Vehicle Age')"
   ]
  },
  {
   "cell_type": "markdown",
   "id": "b41772e2",
   "metadata": {},
   "source": [
    "What are some of the most common vehicles that different households own?"
   ]
  },
  {
   "cell_type": "code",
   "execution_count": 202,
   "id": "7829d26e",
   "metadata": {},
   "outputs": [
    {
     "data": {
      "text/plain": [
       "Text(0.5, 0, 'Household Size')"
      ]
     },
     "execution_count": 202,
     "metadata": {},
     "output_type": "execute_result"
    },
    {
     "data": {
      "image/png": "[encoded data removed]",
      "text/plain": [
       "<Figure size 648x504 with 1 Axes>"
      ]
     },
     "metadata": {},
     "output_type": "display_data"
    }
   ],
   "source": [
    "grouped = vehicle_df[vehicle_df['VEHTYPE']>0].groupby(['HHSIZE', 'VEHTYPE']).size().reset_index(name='count')\n",
    "total = vehicle_df.groupby('HHSIZE').size()\n",
    "total.name = 'total_veh'\n",
    "grouped = grouped.merge(total, on = 'HHSIZE', how = 'left')\n",
    "grouped['percentage'] = (grouped['count'] / grouped['total_veh'])\n",
    "grouped.drop(columns = ['total_veh', 'count'], inplace = True)\n",
    "grouped = grouped.pivot(index = 'HHSIZE', columns='VEHTYPE', values='percentage')\n",
    "grouped.plot(kind = 'bar', stacked = True, figsize = (9,7))\n",
    "plt.title('Vehicle Types per Household Size')\n",
    "plt.ylabel('Percentage (%)')\n",
    "plt.xlabel('Household Size')"
   ]
  },
  {
   "cell_type": "markdown",
   "id": "0beccc6d",
   "metadata": {},
   "source": [
    "Do tracts with different about of workers have higher annual miles? Are most workers driving over taking public transportation/walking?"
   ]
  },
  {
   "cell_type": "code",
   "execution_count": 207,
   "id": "ba6b2a78",
   "metadata": {},
   "outputs": [
    {
     "data": {
      "text/plain": [
       "(0.0, 100000.0)"
      ]
     },
     "execution_count": 207,
     "metadata": {},
     "output_type": "execute_result"
    },
    {
     "data": {
      "image/png": "[encoded data removed]",
      "text/plain": [
       "<Figure size 432x288 with 1 Axes>"
      ]
     },
     "metadata": {},
     "output_type": "display_data"
    }
   ],
   "source": [
    "filtered_workers = vehicle_df[(vehicle_df['BESTMILE']>=0) & (vehicle_df['HTEEMPDN']>=0)]\n",
    "sns.boxplot(data = filtered_workers, x = 'HTEEMPDN', y = 'BESTMILE')\n",
    "plt.ylim(0, 100000)"
   ]
  },
  {
   "cell_type": "code",
   "execution_count": null,
   "id": "e4c9a552",
   "metadata": {},
   "outputs": [],
   "source": []
  },
  {
   "cell_type": "markdown",
   "id": "b786b3a9",
   "metadata": {},
   "source": [
    "## Multinomial Logit Model"
   ]
  },
  {
   "cell_type": "code",
   "execution_count": 1,
   "id": "87f8677c",
   "metadata": {},
   "outputs": [],
   "source": [
    "#multinomial logit model"
   ]
  },
  {
   "cell_type": "code",
   "execution_count": 4,
   "id": "89464f9f",
   "metadata": {},
   "outputs": [
    {
     "name": "stdout",
     "output_type": "stream",
     "text": [
      "(1000, 10) (1000,)\n",
      "Counter({1: 334, 2: 334, 0: 332})\n"
     ]
    },
    {
     "data": {
      "text/html": [
       "<style>#sk-container-id-1 {color: black;background-color: white;}#sk-container-id-1 pre{padding: 0;}#sk-container-id-1 div.sk-toggleable {background-color: white;}#sk-container-id-1 label.sk-toggleable__label {cursor: pointer;display: block;width: 100%;margin-bottom: 0;padding: 0.3em;box-sizing: border-box;text-align: center;}#sk-container-id-1 label.sk-toggleable__label-arrow:before {content: \"▸\";float: left;margin-right: 0.25em;color: #696969;}#sk-container-id-1 label.sk-toggleable__label-arrow:hover:before {color: black;}#sk-container-id-1 div.sk-estimator:hover label.sk-toggleable__label-arrow:before {color: black;}#sk-container-id-1 div.sk-toggleable__content {max-height: 0;max-width: 0;overflow: hidden;text-align: left;background-color: #f0f8ff;}#sk-container-id-1 div.sk-toggleable__content pre {margin: 0.2em;color: black;border-radius: 0.25em;background-color: #f0f8ff;}#sk-container-id-1 input.sk-toggleable__control:checked~div.sk-toggleable__content {max-height: 200px;max-width: 100%;overflow: auto;}#sk-container-id-1 input.sk-toggleable__control:checked~label.sk-toggleable__label-arrow:before {content: \"▾\";}#sk-container-id-1 div.sk-estimator input.sk-toggleable__control:checked~label.sk-toggleable__label {background-color: #d4ebff;}#sk-container-id-1 div.sk-label input.sk-toggleable__control:checked~label.sk-toggleable__label {background-color: #d4ebff;}#sk-container-id-1 input.sk-hidden--visually {border: 0;clip: rect(1px 1px 1px 1px);clip: rect(1px, 1px, 1px, 1px);height: 1px;margin: -1px;overflow: hidden;padding: 0;position: absolute;width: 1px;}#sk-container-id-1 div.sk-estimator {font-family: monospace;background-color: #f0f8ff;border: 1px dotted black;border-radius: 0.25em;box-sizing: border-box;margin-bottom: 0.5em;}#sk-container-id-1 div.sk-estimator:hover {background-color: #d4ebff;}#sk-container-id-1 div.sk-parallel-item::after {content: \"\";width: 100%;border-bottom: 1px solid gray;flex-grow: 1;}#sk-container-id-1 div.sk-label:hover label.sk-toggleable__label {background-color: #d4ebff;}#sk-container-id-1 div.sk-serial::before {content: \"\";position: absolute;border-left: 1px solid gray;box-sizing: border-box;top: 0;bottom: 0;left: 50%;z-index: 0;}#sk-container-id-1 div.sk-serial {display: flex;flex-direction: column;align-items: center;background-color: white;padding-right: 0.2em;padding-left: 0.2em;position: relative;}#sk-container-id-1 div.sk-item {position: relative;z-index: 1;}#sk-container-id-1 div.sk-parallel {display: flex;align-items: stretch;justify-content: center;background-color: white;position: relative;}#sk-container-id-1 div.sk-item::before, #sk-container-id-1 div.sk-parallel-item::before {content: \"\";position: absolute;border-left: 1px solid gray;box-sizing: border-box;top: 0;bottom: 0;left: 50%;z-index: -1;}#sk-container-id-1 div.sk-parallel-item {display: flex;flex-direction: column;z-index: 1;position: relative;background-color: white;}#sk-container-id-1 div.sk-parallel-item:first-child::after {align-self: flex-end;width: 50%;}#sk-container-id-1 div.sk-parallel-item:last-child::after {align-self: flex-start;width: 50%;}#sk-container-id-1 div.sk-parallel-item:only-child::after {width: 0;}#sk-container-id-1 div.sk-dashed-wrapped {border: 1px dashed gray;margin: 0 0.4em 0.5em 0.4em;box-sizing: border-box;padding-bottom: 0.4em;background-color: white;}#sk-container-id-1 div.sk-label label {font-family: monospace;font-weight: bold;display: inline-block;line-height: 1.2em;}#sk-container-id-1 div.sk-label-container {text-align: center;}#sk-container-id-1 div.sk-container {/* jupyter's `normalize.less` sets `[hidden] { display: none; }` but bootstrap.min.css set `[hidden] { display: none !important; }` so we also need the `!important` here to be able to override the default hidden behavior on the sphinx rendered scikit-learn.org. See: https://github.com/scikit-learn/scikit-learn/issues/21755 */display: inline-block !important;position: relative;}#sk-container-id-1 div.sk-text-repr-fallback {display: none;}</style><div id=\"sk-container-id-1\" class=\"sk-top-container\"><div class=\"sk-text-repr-fallback\"><pre>LogisticRegression(multi_class=&#x27;multinomial&#x27;)</pre><b>In a Jupyter environment, please rerun this cell to show the HTML representation or trust the notebook. <br />On GitHub, the HTML representation is unable to render, please try loading this page with nbviewer.org.</b></div><div class=\"sk-container\" hidden><div class=\"sk-item\"><div class=\"sk-estimator sk-toggleable\"><input class=\"sk-toggleable__control sk-hidden--visually\" id=\"sk-estimator-id-1\" type=\"checkbox\" checked><label for=\"sk-estimator-id-1\" class=\"sk-toggleable__label sk-toggleable__label-arrow\">LogisticRegression</label><div class=\"sk-toggleable__content\"><pre>LogisticRegression(multi_class=&#x27;multinomial&#x27;)</pre></div></div></div></div></div>"
      ],
      "text/plain": [
       "LogisticRegression(multi_class='multinomial')"
      ]
     },
     "execution_count": 4,
     "metadata": {},
     "output_type": "execute_result"
    }
   ],
   "source": [
    "# test classification dataset\n",
    "from collections import Counter\n",
    "from sklearn.datasets import make_classification\n",
    "from sklearn.linear_model import LogisticRegression\n",
    "# define dataset\n",
    "# Best Mile, Life Cycle\n",
    "X, y = make_classification(n_samples=1000, n_features=10, n_informative=5, n_redundant=5, n_classes=3, random_state=1)\n",
    "# summarize the dataset\n",
    "print(X.shape, y.shape)\n",
    "print(Counter(y))\n",
    "model = LogisticRegression(multi_class='multinomial', solver='lbfgs')\n",
    "# fit the model on the whole dataset\n",
    "model.fit(X, y)"
   ]
  },
  {
   "cell_type": "code",
   "execution_count": 5,
   "id": "f97dbc60",
   "metadata": {},
   "outputs": [
    {
     "name": "stdout",
     "output_type": "stream",
     "text": [
      "Predicted Class: 1\n"
     ]
    }
   ],
   "source": [
    "# define a single row of input data\n",
    "row = [1.89149379, -0.39847585, 1.63856893, 0.01647165, 1.51892395, -3.52651223, 1.80998823, 0.58810926, -0.02542177, -0.52835426]\n",
    "# predict the class label\n",
    "yhat = model.predict([row])\n",
    "# summarize the predicted class\n",
    "print('Predicted Class: %d' % yhat[0])"
   ]
  },
  {
   "cell_type": "code",
   "execution_count": 13,
   "id": "3f380425",
   "metadata": {},
   "outputs": [
    {
     "data": {
      "text/html": [
       "<div>\n",
       "<style scoped>\n",
       "    .dataframe tbody tr th:only-of-type {\n",
       "        vertical-align: middle;\n",
       "    }\n",
       "\n",
       "    .dataframe tbody tr th {\n",
       "        vertical-align: top;\n",
       "    }\n",
       "\n",
       "    .dataframe thead th {\n",
       "        text-align: right;\n",
       "    }\n",
       "</style>\n",
       "<table border=\"1\" class=\"dataframe\">\n",
       "  <thead>\n",
       "    <tr style=\"text-align: right;\">\n",
       "      <th></th>\n",
       "      <th>TRAVDAY</th>\n",
       "    </tr>\n",
       "  </thead>\n",
       "  <tbody>\n",
       "    <tr>\n",
       "      <th>0</th>\n",
       "      <td>2</td>\n",
       "    </tr>\n",
       "    <tr>\n",
       "      <th>1</th>\n",
       "      <td>2</td>\n",
       "    </tr>\n",
       "    <tr>\n",
       "      <th>2</th>\n",
       "      <td>2</td>\n",
       "    </tr>\n",
       "    <tr>\n",
       "      <th>3</th>\n",
       "      <td>2</td>\n",
       "    </tr>\n",
       "    <tr>\n",
       "      <th>4</th>\n",
       "      <td>2</td>\n",
       "    </tr>\n",
       "    <tr>\n",
       "      <th>...</th>\n",
       "      <td>...</td>\n",
       "    </tr>\n",
       "    <tr>\n",
       "      <th>256110</th>\n",
       "      <td>2</td>\n",
       "    </tr>\n",
       "    <tr>\n",
       "      <th>256111</th>\n",
       "      <td>2</td>\n",
       "    </tr>\n",
       "    <tr>\n",
       "      <th>256112</th>\n",
       "      <td>2</td>\n",
       "    </tr>\n",
       "    <tr>\n",
       "      <th>256113</th>\n",
       "      <td>2</td>\n",
       "    </tr>\n",
       "    <tr>\n",
       "      <th>256114</th>\n",
       "      <td>2</td>\n",
       "    </tr>\n",
       "  </tbody>\n",
       "</table>\n",
       "<p>256115 rows × 1 columns</p>\n",
       "</div>"
      ],
      "text/plain": [
       "        TRAVDAY\n",
       "0             2\n",
       "1             2\n",
       "2             2\n",
       "3             2\n",
       "4             2\n",
       "...         ...\n",
       "256110        2\n",
       "256111        2\n",
       "256112        2\n",
       "256113        2\n",
       "256114        2\n",
       "\n",
       "[256115 rows x 1 columns]"
      ]
     },
     "execution_count": 13,
     "metadata": {},
     "output_type": "execute_result"
    }
   ],
   "source": [
    "vehicle_df[['TRAVDAY']]"
   ]
  },
  {
   "cell_type": "code",
   "execution_count": null,
   "id": "8b98d2fd",
   "metadata": {},
   "outputs": [],
   "source": []
  }
 ],
 "metadata": {
  "kernelspec": {
   "display_name": "Python 3 (ipykernel)",
   "language": "python",
   "name": "python3"
  },
  "language_info": {
   "codemirror_mode": {
    "name": "ipython",
    "version": 3
   },
   "file_extension": ".py",
   "mimetype": "text/x-python",
   "name": "python",
   "nbconvert_exporter": "python",
   "pygments_lexer": "ipython3",
   "version": "3.9.5"
  }
 },
 "nbformat": 4,
 "nbformat_minor": 5
}
